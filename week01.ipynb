{
 "cells": [
  {
   "cell_type": "code",
   "execution_count": 1,
   "metadata": {},
   "outputs": [],
   "source": [
    "import pandas as pd\n",
    "import numpy as np"
   ]
  },
  {
   "cell_type": "code",
   "execution_count": 2,
   "metadata": {},
   "outputs": [
    {
     "data": {
      "text/plain": [
       "pandas.core.frame.DataFrame"
      ]
     },
     "execution_count": 2,
     "metadata": {},
     "output_type": "execute_result"
    }
   ],
   "source": [
    "movies = pd.read_csv('data/movie.csv')\n",
    "type(movies)"
   ]
  },
  {
   "cell_type": "code",
   "execution_count": 3,
   "metadata": {},
   "outputs": [
    {
     "data": {
      "text/plain": [
       "0                         color\n",
       "1                 director_name\n",
       "2        num_critic_for_reviews\n",
       "3                      duration\n",
       "4       director_facebook_likes\n",
       "5        actor_3_facebook_likes\n",
       "6                  actor_2_name\n",
       "7        actor_1_facebook_likes\n",
       "8                         gross\n",
       "9                        genres\n",
       "10                 actor_1_name\n",
       "11                  movie_title\n",
       "12              num_voted_users\n",
       "13    cast_total_facebook_likes\n",
       "14                 actor_3_name\n",
       "15         facenumber_in_poster\n",
       "16                plot_keywords\n",
       "17              movie_imdb_link\n",
       "18         num_user_for_reviews\n",
       "19                     language\n",
       "20                      country\n",
       "21               content_rating\n",
       "22                       budget\n",
       "23                   title_year\n",
       "24       actor_2_facebook_likes\n",
       "25                   imdb_score\n",
       "26                 aspect_ratio\n",
       "27         movie_facebook_likes\n",
       "dtype: object"
      ]
     },
     "execution_count": 3,
     "metadata": {},
     "output_type": "execute_result"
    }
   ],
   "source": [
    "#열 접근\n",
    "columns = movies.columns\n",
    "#list(columns)\n",
    "pd.Series(columns)"
   ]
  },
  {
   "cell_type": "code",
   "execution_count": 4,
   "metadata": {},
   "outputs": [
    {
     "data": {
      "text/plain": [
       "array([['Color', 'James Cameron', 723.0, ..., 7.9, 1.78, 33000],\n",
       "       ['Color', 'Gore Verbinski', 302.0, ..., 7.1, 2.35, 0],\n",
       "       ['Color', 'Sam Mendes', 602.0, ..., 6.8, 2.35, 85000],\n",
       "       ...,\n",
       "       ['Color', 'Benjamin Roberds', 13.0, ..., 6.3, nan, 16],\n",
       "       ['Color', 'Daniel Hsia', 14.0, ..., 6.3, 2.35, 660],\n",
       "       ['Color', 'Jon Gunn', 43.0, ..., 6.6, 1.85, 456]], dtype=object)"
      ]
     },
     "execution_count": 4,
     "metadata": {},
     "output_type": "execute_result"
    }
   ],
   "source": [
    "#데이터 접근\n",
    "data = movies.to_numpy()\n",
    "data"
   ]
  },
  {
   "cell_type": "code",
   "execution_count": 5,
   "metadata": {},
   "outputs": [
    {
     "data": {
      "text/plain": [
       "color                         object\n",
       "director_name                 object\n",
       "num_critic_for_reviews       float64\n",
       "duration                     float64\n",
       "director_facebook_likes      float64\n",
       "actor_3_facebook_likes       float64\n",
       "actor_2_name                  object\n",
       "actor_1_facebook_likes       float64\n",
       "gross                        float64\n",
       "genres                        object\n",
       "actor_1_name                  object\n",
       "movie_title                   object\n",
       "num_voted_users                int64\n",
       "cast_total_facebook_likes      int64\n",
       "actor_3_name                  object\n",
       "facenumber_in_poster         float64\n",
       "plot_keywords                 object\n",
       "movie_imdb_link               object\n",
       "num_user_for_reviews         float64\n",
       "language                      object\n",
       "country                       object\n",
       "content_rating                object\n",
       "budget                       float64\n",
       "title_year                   float64\n",
       "actor_2_facebook_likes       float64\n",
       "imdb_score                   float64\n",
       "aspect_ratio                 float64\n",
       "movie_facebook_likes           int64\n",
       "dtype: object"
      ]
     },
     "execution_count": 5,
     "metadata": {},
     "output_type": "execute_result"
    }
   ],
   "source": [
    "#컬럼 타입 알아보기\n",
    "movies.dtypes"
   ]
  },
  {
   "cell_type": "code",
   "execution_count": 6,
   "metadata": {},
   "outputs": [
    {
     "data": {
      "text/plain": [
       "0           James Cameron\n",
       "1          Gore Verbinski\n",
       "2              Sam Mendes\n",
       "3       Christopher Nolan\n",
       "4             Doug Walker\n",
       "              ...        \n",
       "4911          Scott Smith\n",
       "4912                  NaN\n",
       "4913     Benjamin Roberds\n",
       "4914          Daniel Hsia\n",
       "4915             Jon Gunn\n",
       "Name: director_name, Length: 4916, dtype: object"
      ]
     },
     "execution_count": 6,
     "metadata": {},
     "output_type": "execute_result"
    }
   ],
   "source": [
    "movies.director_name"
   ]
  },
  {
   "cell_type": "code",
   "execution_count": 7,
   "metadata": {},
   "outputs": [
    {
     "data": {
      "text/plain": [
       "pandas.core.series.Series"
      ]
     },
     "execution_count": 7,
     "metadata": {},
     "output_type": "execute_result"
    }
   ],
   "source": [
    "type(movies.director_name)"
   ]
  },
  {
   "cell_type": "code",
   "execution_count": 8,
   "metadata": {},
   "outputs": [],
   "source": [
    "director = movies.director_name\n",
    "fb_likes = movies.actor_1_facebook_likes"
   ]
  },
  {
   "cell_type": "code",
   "execution_count": 9,
   "metadata": {},
   "outputs": [
    {
     "data": {
      "text/plain": [
       "2347    Brian Percival\n",
       "4687       Lucio Fulci\n",
       "691      Phillip Noyce\n",
       "Name: director_name, dtype: object"
      ]
     },
     "execution_count": 9,
     "metadata": {},
     "output_type": "execute_result"
    }
   ],
   "source": [
    "director.sample(3, random_state=42)"
   ]
  },
  {
   "cell_type": "code",
   "execution_count": 10,
   "metadata": {},
   "outputs": [
    {
     "data": {
      "text/html": [
       "<div>\n",
       "<style scoped>\n",
       "    .dataframe tbody tr th:only-of-type {\n",
       "        vertical-align: middle;\n",
       "    }\n",
       "\n",
       "    .dataframe tbody tr th {\n",
       "        vertical-align: top;\n",
       "    }\n",
       "\n",
       "    .dataframe thead th {\n",
       "        text-align: right;\n",
       "    }\n",
       "</style>\n",
       "<table border=\"1\" class=\"dataframe\">\n",
       "  <thead>\n",
       "    <tr style=\"text-align: right;\">\n",
       "      <th></th>\n",
       "      <th>num_critic_for_reviews</th>\n",
       "      <th>duration</th>\n",
       "      <th>director_facebook_likes</th>\n",
       "      <th>actor_3_facebook_likes</th>\n",
       "      <th>actor_1_facebook_likes</th>\n",
       "      <th>gross</th>\n",
       "      <th>num_voted_users</th>\n",
       "      <th>cast_total_facebook_likes</th>\n",
       "      <th>facenumber_in_poster</th>\n",
       "      <th>num_user_for_reviews</th>\n",
       "      <th>budget</th>\n",
       "      <th>title_year</th>\n",
       "      <th>actor_2_facebook_likes</th>\n",
       "      <th>imdb_score</th>\n",
       "      <th>aspect_ratio</th>\n",
       "      <th>movie_facebook_likes</th>\n",
       "    </tr>\n",
       "  </thead>\n",
       "  <tbody>\n",
       "    <tr>\n",
       "      <th>count</th>\n",
       "      <td>4867.000000</td>\n",
       "      <td>4901.000000</td>\n",
       "      <td>4814.000000</td>\n",
       "      <td>4893.000000</td>\n",
       "      <td>4909.000000</td>\n",
       "      <td>4.054000e+03</td>\n",
       "      <td>4.916000e+03</td>\n",
       "      <td>4916.000000</td>\n",
       "      <td>4903.000000</td>\n",
       "      <td>4895.000000</td>\n",
       "      <td>4.432000e+03</td>\n",
       "      <td>4810.000000</td>\n",
       "      <td>4903.000000</td>\n",
       "      <td>4916.000000</td>\n",
       "      <td>4590.000000</td>\n",
       "      <td>4916.000000</td>\n",
       "    </tr>\n",
       "    <tr>\n",
       "      <th>mean</th>\n",
       "      <td>137.988905</td>\n",
       "      <td>107.090798</td>\n",
       "      <td>691.014541</td>\n",
       "      <td>631.276313</td>\n",
       "      <td>6494.488491</td>\n",
       "      <td>4.764451e+07</td>\n",
       "      <td>8.264492e+04</td>\n",
       "      <td>9579.815907</td>\n",
       "      <td>1.377320</td>\n",
       "      <td>267.668846</td>\n",
       "      <td>3.654749e+07</td>\n",
       "      <td>2002.447609</td>\n",
       "      <td>1621.923516</td>\n",
       "      <td>6.437429</td>\n",
       "      <td>2.222349</td>\n",
       "      <td>7348.294142</td>\n",
       "    </tr>\n",
       "    <tr>\n",
       "      <th>std</th>\n",
       "      <td>120.239379</td>\n",
       "      <td>25.286015</td>\n",
       "      <td>2832.954125</td>\n",
       "      <td>1625.874802</td>\n",
       "      <td>15106.986884</td>\n",
       "      <td>6.737255e+07</td>\n",
       "      <td>1.383222e+05</td>\n",
       "      <td>18164.316990</td>\n",
       "      <td>2.023826</td>\n",
       "      <td>372.934839</td>\n",
       "      <td>1.002427e+08</td>\n",
       "      <td>12.453977</td>\n",
       "      <td>4011.299523</td>\n",
       "      <td>1.127802</td>\n",
       "      <td>1.402940</td>\n",
       "      <td>19206.016458</td>\n",
       "    </tr>\n",
       "    <tr>\n",
       "      <th>min</th>\n",
       "      <td>1.000000</td>\n",
       "      <td>7.000000</td>\n",
       "      <td>0.000000</td>\n",
       "      <td>0.000000</td>\n",
       "      <td>0.000000</td>\n",
       "      <td>1.620000e+02</td>\n",
       "      <td>5.000000e+00</td>\n",
       "      <td>0.000000</td>\n",
       "      <td>0.000000</td>\n",
       "      <td>1.000000</td>\n",
       "      <td>2.180000e+02</td>\n",
       "      <td>1916.000000</td>\n",
       "      <td>0.000000</td>\n",
       "      <td>1.600000</td>\n",
       "      <td>1.180000</td>\n",
       "      <td>0.000000</td>\n",
       "    </tr>\n",
       "    <tr>\n",
       "      <th>25%</th>\n",
       "      <td>49.000000</td>\n",
       "      <td>93.000000</td>\n",
       "      <td>7.000000</td>\n",
       "      <td>132.000000</td>\n",
       "      <td>607.000000</td>\n",
       "      <td>5.019656e+06</td>\n",
       "      <td>8.361750e+03</td>\n",
       "      <td>1394.750000</td>\n",
       "      <td>0.000000</td>\n",
       "      <td>64.000000</td>\n",
       "      <td>6.000000e+06</td>\n",
       "      <td>1999.000000</td>\n",
       "      <td>277.000000</td>\n",
       "      <td>5.800000</td>\n",
       "      <td>1.850000</td>\n",
       "      <td>0.000000</td>\n",
       "    </tr>\n",
       "    <tr>\n",
       "      <th>50%</th>\n",
       "      <td>108.000000</td>\n",
       "      <td>103.000000</td>\n",
       "      <td>48.000000</td>\n",
       "      <td>366.000000</td>\n",
       "      <td>982.000000</td>\n",
       "      <td>2.504396e+07</td>\n",
       "      <td>3.313250e+04</td>\n",
       "      <td>3049.000000</td>\n",
       "      <td>1.000000</td>\n",
       "      <td>153.000000</td>\n",
       "      <td>1.985000e+07</td>\n",
       "      <td>2005.000000</td>\n",
       "      <td>593.000000</td>\n",
       "      <td>6.600000</td>\n",
       "      <td>2.350000</td>\n",
       "      <td>159.000000</td>\n",
       "    </tr>\n",
       "    <tr>\n",
       "      <th>75%</th>\n",
       "      <td>191.000000</td>\n",
       "      <td>118.000000</td>\n",
       "      <td>189.750000</td>\n",
       "      <td>633.000000</td>\n",
       "      <td>11000.000000</td>\n",
       "      <td>6.110841e+07</td>\n",
       "      <td>9.377275e+04</td>\n",
       "      <td>13616.750000</td>\n",
       "      <td>2.000000</td>\n",
       "      <td>320.500000</td>\n",
       "      <td>4.300000e+07</td>\n",
       "      <td>2011.000000</td>\n",
       "      <td>912.000000</td>\n",
       "      <td>7.200000</td>\n",
       "      <td>2.350000</td>\n",
       "      <td>2000.000000</td>\n",
       "    </tr>\n",
       "    <tr>\n",
       "      <th>max</th>\n",
       "      <td>813.000000</td>\n",
       "      <td>511.000000</td>\n",
       "      <td>23000.000000</td>\n",
       "      <td>23000.000000</td>\n",
       "      <td>640000.000000</td>\n",
       "      <td>7.605058e+08</td>\n",
       "      <td>1.689764e+06</td>\n",
       "      <td>656730.000000</td>\n",
       "      <td>43.000000</td>\n",
       "      <td>5060.000000</td>\n",
       "      <td>4.200000e+09</td>\n",
       "      <td>2016.000000</td>\n",
       "      <td>137000.000000</td>\n",
       "      <td>9.500000</td>\n",
       "      <td>16.000000</td>\n",
       "      <td>349000.000000</td>\n",
       "    </tr>\n",
       "  </tbody>\n",
       "</table>\n",
       "</div>"
      ],
      "text/plain": [
       "       num_critic_for_reviews     duration  director_facebook_likes  \\\n",
       "count             4867.000000  4901.000000              4814.000000   \n",
       "mean               137.988905   107.090798               691.014541   \n",
       "std                120.239379    25.286015              2832.954125   \n",
       "min                  1.000000     7.000000                 0.000000   \n",
       "25%                 49.000000    93.000000                 7.000000   \n",
       "50%                108.000000   103.000000                48.000000   \n",
       "75%                191.000000   118.000000               189.750000   \n",
       "max                813.000000   511.000000             23000.000000   \n",
       "\n",
       "       actor_3_facebook_likes  actor_1_facebook_likes         gross  \\\n",
       "count             4893.000000             4909.000000  4.054000e+03   \n",
       "mean               631.276313             6494.488491  4.764451e+07   \n",
       "std               1625.874802            15106.986884  6.737255e+07   \n",
       "min                  0.000000                0.000000  1.620000e+02   \n",
       "25%                132.000000              607.000000  5.019656e+06   \n",
       "50%                366.000000              982.000000  2.504396e+07   \n",
       "75%                633.000000            11000.000000  6.110841e+07   \n",
       "max              23000.000000           640000.000000  7.605058e+08   \n",
       "\n",
       "       num_voted_users  cast_total_facebook_likes  facenumber_in_poster  \\\n",
       "count     4.916000e+03                4916.000000           4903.000000   \n",
       "mean      8.264492e+04                9579.815907              1.377320   \n",
       "std       1.383222e+05               18164.316990              2.023826   \n",
       "min       5.000000e+00                   0.000000              0.000000   \n",
       "25%       8.361750e+03                1394.750000              0.000000   \n",
       "50%       3.313250e+04                3049.000000              1.000000   \n",
       "75%       9.377275e+04               13616.750000              2.000000   \n",
       "max       1.689764e+06              656730.000000             43.000000   \n",
       "\n",
       "       num_user_for_reviews        budget   title_year  \\\n",
       "count           4895.000000  4.432000e+03  4810.000000   \n",
       "mean             267.668846  3.654749e+07  2002.447609   \n",
       "std              372.934839  1.002427e+08    12.453977   \n",
       "min                1.000000  2.180000e+02  1916.000000   \n",
       "25%               64.000000  6.000000e+06  1999.000000   \n",
       "50%              153.000000  1.985000e+07  2005.000000   \n",
       "75%              320.500000  4.300000e+07  2011.000000   \n",
       "max             5060.000000  4.200000e+09  2016.000000   \n",
       "\n",
       "       actor_2_facebook_likes   imdb_score  aspect_ratio  movie_facebook_likes  \n",
       "count             4903.000000  4916.000000   4590.000000           4916.000000  \n",
       "mean              1621.923516     6.437429      2.222349           7348.294142  \n",
       "std               4011.299523     1.127802      1.402940          19206.016458  \n",
       "min                  0.000000     1.600000      1.180000              0.000000  \n",
       "25%                277.000000     5.800000      1.850000              0.000000  \n",
       "50%                593.000000     6.600000      2.350000            159.000000  \n",
       "75%                912.000000     7.200000      2.350000           2000.000000  \n",
       "max             137000.000000     9.500000     16.000000         349000.000000  "
      ]
     },
     "execution_count": 10,
     "metadata": {},
     "output_type": "execute_result"
    }
   ],
   "source": [
    "movies.describe()"
   ]
  },
  {
   "cell_type": "code",
   "execution_count": 11,
   "metadata": {},
   "outputs": [
    {
     "data": {
      "text/plain": [
       "color                         19\n",
       "director_name                102\n",
       "num_critic_for_reviews        49\n",
       "duration                      15\n",
       "director_facebook_likes      102\n",
       "actor_3_facebook_likes        23\n",
       "actor_2_name                  13\n",
       "actor_1_facebook_likes         7\n",
       "gross                        862\n",
       "genres                         0\n",
       "actor_1_name                   7\n",
       "movie_title                    0\n",
       "num_voted_users                0\n",
       "cast_total_facebook_likes      0\n",
       "actor_3_name                  23\n",
       "facenumber_in_poster          13\n",
       "plot_keywords                152\n",
       "movie_imdb_link                0\n",
       "num_user_for_reviews          21\n",
       "language                      12\n",
       "country                        5\n",
       "content_rating               300\n",
       "budget                       484\n",
       "title_year                   106\n",
       "actor_2_facebook_likes        13\n",
       "imdb_score                     0\n",
       "aspect_ratio                 326\n",
       "movie_facebook_likes           0\n",
       "dtype: int64"
      ]
     },
     "execution_count": 11,
     "metadata": {},
     "output_type": "execute_result"
    }
   ],
   "source": [
    "#isna() - na값 알아보기\n",
    "movies.isna().sum()"
   ]
  },
  {
   "cell_type": "code",
   "execution_count": 13,
   "metadata": {},
   "outputs": [],
   "source": [
    "#test_series = pd.Series([1, 3, 6, np.nan, 1])\n",
    "#test_series.dropna()\n",
    "#test_series = test_series.dropna() -> 이렇게 해야 dropna()가 반영됨"
   ]
  },
  {
   "cell_type": "code",
   "execution_count": 14,
   "metadata": {},
   "outputs": [
    {
     "data": {
      "text/plain": [
       "Steven Spielberg    26\n",
       "Woody Allen         22\n",
       "Martin Scorsese     20\n",
       "Clint Eastwood      20\n",
       "Ridley Scott        16\n",
       "Name: director_name, dtype: int64"
      ]
     },
     "execution_count": 14,
     "metadata": {},
     "output_type": "execute_result"
    }
   ],
   "source": [
    "director = movies.director_name\n",
    "director.value_counts().head().tail()"
   ]
  },
  {
   "cell_type": "code",
   "execution_count": 15,
   "metadata": {},
   "outputs": [
    {
     "data": {
      "text/plain": [
       "Index(['color', 'director_name', 'num_critic_for_reviews', 'duration',\n",
       "       'director_facebook_likes', 'actor_3_facebook_likes', 'actor_2_name',\n",
       "       'actor_1_facebook_likes', 'gross', 'genres', 'actor_1_name',\n",
       "       'movie_title', 'num_voted_users', 'cast_total_facebook_likes',\n",
       "       'actor_3_name', 'facenumber_in_poster', 'plot_keywords',\n",
       "       'movie_imdb_link', 'num_user_for_reviews', 'language', 'country',\n",
       "       'content_rating', 'budget', 'title_year', 'actor_2_facebook_likes',\n",
       "       'imdb_score', 'aspect_ratio', 'movie_facebook_likes'],\n",
       "      dtype='object')"
      ]
     },
     "execution_count": 15,
     "metadata": {},
     "output_type": "execute_result"
    }
   ],
   "source": [
    "movies.columns"
   ]
  },
  {
   "cell_type": "code",
   "execution_count": 16,
   "metadata": {},
   "outputs": [
    {
     "data": {
      "text/html": [
       "<div>\n",
       "<style scoped>\n",
       "    .dataframe tbody tr th:only-of-type {\n",
       "        vertical-align: middle;\n",
       "    }\n",
       "\n",
       "    .dataframe tbody tr th {\n",
       "        vertical-align: top;\n",
       "    }\n",
       "\n",
       "    .dataframe thead th {\n",
       "        text-align: right;\n",
       "    }\n",
       "</style>\n",
       "<table border=\"1\" class=\"dataframe\">\n",
       "  <thead>\n",
       "    <tr style=\"text-align: right;\">\n",
       "      <th></th>\n",
       "      <th>color</th>\n",
       "      <th>director</th>\n",
       "      <th>critic_reviews</th>\n",
       "    </tr>\n",
       "  </thead>\n",
       "  <tbody>\n",
       "    <tr>\n",
       "      <th>0</th>\n",
       "      <td>Color</td>\n",
       "      <td>James Cameron</td>\n",
       "      <td>723.0</td>\n",
       "    </tr>\n",
       "    <tr>\n",
       "      <th>1</th>\n",
       "      <td>Color</td>\n",
       "      <td>Gore Verbinski</td>\n",
       "      <td>302.0</td>\n",
       "    </tr>\n",
       "    <tr>\n",
       "      <th>2</th>\n",
       "      <td>Color</td>\n",
       "      <td>Sam Mendes</td>\n",
       "      <td>602.0</td>\n",
       "    </tr>\n",
       "    <tr>\n",
       "      <th>3</th>\n",
       "      <td>Color</td>\n",
       "      <td>Christopher Nolan</td>\n",
       "      <td>813.0</td>\n",
       "    </tr>\n",
       "    <tr>\n",
       "      <th>4</th>\n",
       "      <td>NaN</td>\n",
       "      <td>Doug Walker</td>\n",
       "      <td>NaN</td>\n",
       "    </tr>\n",
       "  </tbody>\n",
       "</table>\n",
       "</div>"
      ],
      "text/plain": [
       "   color           director  critic_reviews\n",
       "0  Color      James Cameron           723.0\n",
       "1  Color     Gore Verbinski           302.0\n",
       "2  Color         Sam Mendes           602.0\n",
       "3  Color  Christopher Nolan           813.0\n",
       "4    NaN        Doug Walker             NaN"
      ]
     },
     "execution_count": 16,
     "metadata": {},
     "output_type": "execute_result"
    }
   ],
   "source": [
    "col_map = {'director_name':'director',\n",
    " 'num_critic_for_reviews': 'critic_reviews'}\n",
    "movies.rename(columns=col_map).iloc[:, :3].head()"
   ]
  },
  {
   "cell_type": "code",
   "execution_count": 17,
   "metadata": {},
   "outputs": [
    {
     "data": {
      "text/plain": [
       "Index(['COLOR', 'DIRECTOR_NAME', 'NUM_CRITIC_FOR_REVIEWS', 'DURATION',\n",
       "       'DIRECTOR_FACEBOOK_LIKES', 'ACTOR_3_FACEBOOK_LIKES', 'ACTOR_2_NAME',\n",
       "       'ACTOR_1_FACEBOOK_LIKES', 'GROSS', 'GENRES', 'ACTOR_1_NAME',\n",
       "       'MOVIE_TITLE', 'NUM_VOTED_USERS', 'CAST_TOTAL_FACEBOOK_LIKES',\n",
       "       'ACTOR_3_NAME', 'FACENUMBER_IN_POSTER', 'PLOT_KEYWORDS',\n",
       "       'MOVIE_IMDB_LINK', 'NUM_USER_FOR_REVIEWS', 'LANGUAGE', 'COUNTRY',\n",
       "       'CONTENT_RATING', 'BUDGET', 'TITLE_YEAR', 'ACTOR_2_FACEBOOK_LIKES',\n",
       "       'IMDB_SCORE', 'ASPECT_RATIO', 'MOVIE_FACEBOOK_LIKES'],\n",
       "      dtype='object')"
      ]
     },
     "execution_count": 17,
     "metadata": {},
     "output_type": "execute_result"
    }
   ],
   "source": [
    "movies.rename(columns=lambda x: x.strip().upper()).columns"
   ]
  },
  {
   "cell_type": "code",
   "execution_count": 18,
   "metadata": {},
   "outputs": [],
   "source": [
    "movies['total_likes'] = (movies.actor_1_facebook_likes +\n",
    " movies.actor_2_facebook_likes +\n",
    " movies.actor_3_facebook_likes +\n",
    " movies.director_facebook_likes)"
   ]
  },
  {
   "cell_type": "code",
   "execution_count": 19,
   "metadata": {},
   "outputs": [
    {
     "data": {
      "text/plain": [
       "0        2791.0\n",
       "1       46563.0\n",
       "2       11554.0\n",
       "3       95000.0\n",
       "4           NaN\n",
       "         ...   \n",
       "4911     1427.0\n",
       "4912        NaN\n",
       "4913        0.0\n",
       "4914     2154.0\n",
       "4915      141.0\n",
       "Name: total_likes, Length: 4916, dtype: float64"
      ]
     },
     "execution_count": 19,
     "metadata": {},
     "output_type": "execute_result"
    }
   ],
   "source": [
    "movies.total_likes"
   ]
  },
  {
   "cell_type": "code",
   "execution_count": 20,
   "metadata": {},
   "outputs": [
    {
     "data": {
      "text/plain": [
       "0        0\n",
       "1        0\n",
       "2        0\n",
       "3        0\n",
       "4       15\n",
       "        ..\n",
       "4911     4\n",
       "4912     6\n",
       "4913     4\n",
       "4914     2\n",
       "4915     0\n",
       "Length: 4916, dtype: int64"
      ]
     },
     "execution_count": 20,
     "metadata": {},
     "output_type": "execute_result"
    }
   ],
   "source": [
    "\n",
    "# 1은 칼럼\n",
    "movies.isna().sum(axis=1)\n"
   ]
  },
  {
   "cell_type": "code",
   "execution_count": 21,
   "metadata": {},
   "outputs": [
    {
     "data": {
      "text/plain": [
       "color                         19\n",
       "director_name                102\n",
       "num_critic_for_reviews        49\n",
       "duration                      15\n",
       "director_facebook_likes      102\n",
       "actor_3_facebook_likes        23\n",
       "actor_2_name                  13\n",
       "actor_1_facebook_likes         7\n",
       "gross                        862\n",
       "genres                         0\n",
       "actor_1_name                   7\n",
       "movie_title                    0\n",
       "num_voted_users                0\n",
       "cast_total_facebook_likes      0\n",
       "actor_3_name                  23\n",
       "facenumber_in_poster          13\n",
       "plot_keywords                152\n",
       "movie_imdb_link                0\n",
       "num_user_for_reviews          21\n",
       "language                      12\n",
       "country                        5\n",
       "content_rating               300\n",
       "budget                       484\n",
       "title_year                   106\n",
       "actor_2_facebook_likes        13\n",
       "imdb_score                     0\n",
       "aspect_ratio                 326\n",
       "movie_facebook_likes           0\n",
       "total_likes                  122\n",
       "dtype: int64"
      ]
     },
     "execution_count": 21,
     "metadata": {},
     "output_type": "execute_result"
    }
   ],
   "source": [
    "#0은 행\n",
    "movies.isna().sum(axis=0)\n"
   ]
  },
  {
   "cell_type": "code",
   "execution_count": 22,
   "metadata": {},
   "outputs": [
    {
     "data": {
      "text/plain": [
       "['director_facebook_likes',\n",
       " 'actor_3_facebook_likes',\n",
       " 'actor_1_facebook_likes',\n",
       " 'cast_total_facebook_likes',\n",
       " 'actor_2_facebook_likes',\n",
       " 'movie_facebook_likes']"
      ]
     },
     "execution_count": 22,
     "metadata": {},
     "output_type": "execute_result"
    }
   ],
   "source": [
    "[\n",
    " c\n",
    " for c in movies.columns\n",
    " if 'facebook' in c\n",
    "]"
   ]
  },
  {
   "cell_type": "code",
   "execution_count": 23,
   "metadata": {},
   "outputs": [],
   "source": [
    "movies_fb = movies[[\n",
    " c\n",
    " for c in movies.columns\n",
    " if 'facebook' in c\n",
    "]]"
   ]
  },
  {
   "cell_type": "code",
   "execution_count": 24,
   "metadata": {},
   "outputs": [
    {
     "data": {
      "text/html": [
       "<div>\n",
       "<style scoped>\n",
       "    .dataframe tbody tr th:only-of-type {\n",
       "        vertical-align: middle;\n",
       "    }\n",
       "\n",
       "    .dataframe tbody tr th {\n",
       "        vertical-align: top;\n",
       "    }\n",
       "\n",
       "    .dataframe thead th {\n",
       "        text-align: right;\n",
       "    }\n",
       "</style>\n",
       "<table border=\"1\" class=\"dataframe\">\n",
       "  <thead>\n",
       "    <tr style=\"text-align: right;\">\n",
       "      <th></th>\n",
       "      <th>director_facebook_likes</th>\n",
       "      <th>actor_3_facebook_likes</th>\n",
       "      <th>actor_1_facebook_likes</th>\n",
       "      <th>cast_total_facebook_likes</th>\n",
       "      <th>actor_2_facebook_likes</th>\n",
       "      <th>movie_facebook_likes</th>\n",
       "      <th>total_likes</th>\n",
       "    </tr>\n",
       "  </thead>\n",
       "  <tbody>\n",
       "    <tr>\n",
       "      <th>0</th>\n",
       "      <td>0.0</td>\n",
       "      <td>855.0</td>\n",
       "      <td>1000.0</td>\n",
       "      <td>4834</td>\n",
       "      <td>936.0</td>\n",
       "      <td>33000</td>\n",
       "      <td>40625.0</td>\n",
       "    </tr>\n",
       "    <tr>\n",
       "      <th>1</th>\n",
       "      <td>563.0</td>\n",
       "      <td>1000.0</td>\n",
       "      <td>40000.0</td>\n",
       "      <td>48350</td>\n",
       "      <td>5000.0</td>\n",
       "      <td>0</td>\n",
       "      <td>94913.0</td>\n",
       "    </tr>\n",
       "    <tr>\n",
       "      <th>2</th>\n",
       "      <td>0.0</td>\n",
       "      <td>161.0</td>\n",
       "      <td>11000.0</td>\n",
       "      <td>11700</td>\n",
       "      <td>393.0</td>\n",
       "      <td>85000</td>\n",
       "      <td>108254.0</td>\n",
       "    </tr>\n",
       "    <tr>\n",
       "      <th>3</th>\n",
       "      <td>22000.0</td>\n",
       "      <td>23000.0</td>\n",
       "      <td>27000.0</td>\n",
       "      <td>106759</td>\n",
       "      <td>23000.0</td>\n",
       "      <td>164000</td>\n",
       "      <td>365759.0</td>\n",
       "    </tr>\n",
       "    <tr>\n",
       "      <th>4</th>\n",
       "      <td>131.0</td>\n",
       "      <td>NaN</td>\n",
       "      <td>131.0</td>\n",
       "      <td>143</td>\n",
       "      <td>12.0</td>\n",
       "      <td>0</td>\n",
       "      <td>417.0</td>\n",
       "    </tr>\n",
       "  </tbody>\n",
       "</table>\n",
       "</div>"
      ],
      "text/plain": [
       "   director_facebook_likes  actor_3_facebook_likes  actor_1_facebook_likes  \\\n",
       "0                      0.0                   855.0                  1000.0   \n",
       "1                    563.0                  1000.0                 40000.0   \n",
       "2                      0.0                   161.0                 11000.0   \n",
       "3                  22000.0                 23000.0                 27000.0   \n",
       "4                    131.0                     NaN                   131.0   \n",
       "\n",
       "   cast_total_facebook_likes  actor_2_facebook_likes  movie_facebook_likes  \\\n",
       "0                       4834                   936.0                 33000   \n",
       "1                      48350                  5000.0                     0   \n",
       "2                      11700                   393.0                 85000   \n",
       "3                     106759                 23000.0                164000   \n",
       "4                        143                    12.0                     0   \n",
       "\n",
       "   total_likes  \n",
       "0      40625.0  \n",
       "1      94913.0  \n",
       "2     108254.0  \n",
       "3     365759.0  \n",
       "4        417.0  "
      ]
     },
     "execution_count": 24,
     "metadata": {},
     "output_type": "execute_result"
    }
   ],
   "source": [
    "# 1은 칼럼\n",
    "movies_fb = movies_fb.assign(total_likes=movies_fb.sum(axis=1))\n",
    "movies_fb.head()"
   ]
  },
  {
   "cell_type": "code",
   "execution_count": 25,
   "metadata": {},
   "outputs": [
    {
     "data": {
      "text/html": [
       "<div>\n",
       "<style scoped>\n",
       "    .dataframe tbody tr th:only-of-type {\n",
       "        vertical-align: middle;\n",
       "    }\n",
       "\n",
       "    .dataframe tbody tr th {\n",
       "        vertical-align: top;\n",
       "    }\n",
       "\n",
       "    .dataframe thead th {\n",
       "        text-align: right;\n",
       "    }\n",
       "</style>\n",
       "<table border=\"1\" class=\"dataframe\">\n",
       "  <thead>\n",
       "    <tr style=\"text-align: right;\">\n",
       "      <th></th>\n",
       "      <th>director_facebook_likes</th>\n",
       "      <th>actor_3_facebook_likes</th>\n",
       "      <th>actor_1_facebook_likes</th>\n",
       "      <th>cast_total_facebook_likes</th>\n",
       "      <th>actor_2_facebook_likes</th>\n",
       "      <th>movie_facebook_likes</th>\n",
       "    </tr>\n",
       "  </thead>\n",
       "  <tbody>\n",
       "    <tr>\n",
       "      <th>0</th>\n",
       "      <td>0.0</td>\n",
       "      <td>855.0</td>\n",
       "      <td>1000.0</td>\n",
       "      <td>4834</td>\n",
       "      <td>936.0</td>\n",
       "      <td>33000</td>\n",
       "    </tr>\n",
       "    <tr>\n",
       "      <th>1</th>\n",
       "      <td>563.0</td>\n",
       "      <td>1000.0</td>\n",
       "      <td>40000.0</td>\n",
       "      <td>48350</td>\n",
       "      <td>5000.0</td>\n",
       "      <td>0</td>\n",
       "    </tr>\n",
       "    <tr>\n",
       "      <th>2</th>\n",
       "      <td>0.0</td>\n",
       "      <td>161.0</td>\n",
       "      <td>11000.0</td>\n",
       "      <td>11700</td>\n",
       "      <td>393.0</td>\n",
       "      <td>85000</td>\n",
       "    </tr>\n",
       "    <tr>\n",
       "      <th>3</th>\n",
       "      <td>22000.0</td>\n",
       "      <td>23000.0</td>\n",
       "      <td>27000.0</td>\n",
       "      <td>106759</td>\n",
       "      <td>23000.0</td>\n",
       "      <td>164000</td>\n",
       "    </tr>\n",
       "    <tr>\n",
       "      <th>4</th>\n",
       "      <td>131.0</td>\n",
       "      <td>NaN</td>\n",
       "      <td>131.0</td>\n",
       "      <td>143</td>\n",
       "      <td>12.0</td>\n",
       "      <td>0</td>\n",
       "    </tr>\n",
       "  </tbody>\n",
       "</table>\n",
       "</div>"
      ],
      "text/plain": [
       "   director_facebook_likes  actor_3_facebook_likes  actor_1_facebook_likes  \\\n",
       "0                      0.0                   855.0                  1000.0   \n",
       "1                    563.0                  1000.0                 40000.0   \n",
       "2                      0.0                   161.0                 11000.0   \n",
       "3                  22000.0                 23000.0                 27000.0   \n",
       "4                    131.0                     NaN                   131.0   \n",
       "\n",
       "   cast_total_facebook_likes  actor_2_facebook_likes  movie_facebook_likes  \n",
       "0                       4834                   936.0                 33000  \n",
       "1                      48350                  5000.0                     0  \n",
       "2                      11700                   393.0                 85000  \n",
       "3                     106759                 23000.0                164000  \n",
       "4                        143                    12.0                     0  "
      ]
     },
     "execution_count": 25,
     "metadata": {},
     "output_type": "execute_result"
    }
   ],
   "source": [
    "movies_fb.drop(columns='total_likes').head()"
   ]
  },
  {
   "cell_type": "code",
   "execution_count": 1,
   "metadata": {},
   "outputs": [
    {
     "ename": "NameError",
     "evalue": "name 'a' is not defined",
     "output_type": "error",
     "traceback": [
      "\u001b[1;31m---------------------------------------------------------------------------\u001b[0m",
      "\u001b[1;31mNameError\u001b[0m                                 Traceback (most recent call last)",
      "\u001b[1;32m<ipython-input-1-73c244f17481>\u001b[0m in \u001b[0;36m<module>\u001b[1;34m\u001b[0m\n\u001b[1;32m----> 1\u001b[1;33m \u001b[0mlen\u001b[0m\u001b[1;33m(\u001b[0m\u001b[0ma\u001b[0m\u001b[1;33m.\u001b[0m\u001b[0miloc\u001b[0m\u001b[1;33m[\u001b[0m\u001b[1;36m1\u001b[0m\u001b[1;33m:\u001b[0m\u001b[1;36m5\u001b[0m\u001b[1;33m,\u001b[0m \u001b[1;36m2\u001b[0m\u001b[1;33m:\u001b[0m\u001b[1;36m4\u001b[0m\u001b[1;33m]\u001b[0m\u001b[1;33m)\u001b[0m\u001b[1;33m\u001b[0m\u001b[1;33m\u001b[0m\u001b[0m\n\u001b[0m",
      "\u001b[1;31mNameError\u001b[0m: name 'a' is not defined"
     ]
    }
   ],
   "source": [
    "len(a.iloc[1:5, 2:4])"
   ]
  },
  {
   "cell_type": "code",
   "execution_count": null,
   "metadata": {},
   "outputs": [],
   "source": []
  }
 ],
 "metadata": {
  "kernelspec": {
   "display_name": "Python 3",
   "language": "python",
   "name": "python3"
  },
  "language_info": {
   "codemirror_mode": {
    "name": "ipython",
    "version": 3
   },
   "file_extension": ".py",
   "mimetype": "text/x-python",
   "name": "python",
   "nbconvert_exporter": "python",
   "pygments_lexer": "ipython3",
   "version": "3.8.5"
  }
 },
 "nbformat": 4,
 "nbformat_minor": 4
}
