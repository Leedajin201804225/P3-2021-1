{
 "cells": [
  {
   "cell_type": "code",
   "execution_count": 1,
   "metadata": {},
   "outputs": [],
   "source": [
    "#필요한 import\n",
    "import pandas as pd\n",
    "import numpy as np\n"
   ]
  },
  {
   "cell_type": "code",
   "execution_count": 2,
   "metadata": {},
   "outputs": [
    {
     "data": {
      "text/html": [
       "<div>\n",
       "<style scoped>\n",
       "    .dataframe tbody tr th:only-of-type {\n",
       "        vertical-align: middle;\n",
       "    }\n",
       "\n",
       "    .dataframe tbody tr th {\n",
       "        vertical-align: top;\n",
       "    }\n",
       "\n",
       "    .dataframe thead th {\n",
       "        text-align: right;\n",
       "    }\n",
       "</style>\n",
       "<table border=\"1\" class=\"dataframe\">\n",
       "  <thead>\n",
       "    <tr style=\"text-align: right;\">\n",
       "      <th></th>\n",
       "      <th>family_name</th>\n",
       "      <th>first_name</th>\n",
       "      <th>age</th>\n",
       "    </tr>\n",
       "  </thead>\n",
       "  <tbody>\n",
       "    <tr>\n",
       "      <th>0</th>\n",
       "      <td>홍</td>\n",
       "      <td>길동</td>\n",
       "      <td>23</td>\n",
       "    </tr>\n",
       "    <tr>\n",
       "      <th>1</th>\n",
       "      <td>김</td>\n",
       "      <td>철수</td>\n",
       "      <td>45</td>\n",
       "    </tr>\n",
       "    <tr>\n",
       "      <th>2</th>\n",
       "      <td>이</td>\n",
       "      <td>성계</td>\n",
       "      <td>99</td>\n",
       "    </tr>\n",
       "    <tr>\n",
       "      <th>3</th>\n",
       "      <td>박</td>\n",
       "      <td>지성</td>\n",
       "      <td>41</td>\n",
       "    </tr>\n",
       "    <tr>\n",
       "      <th>4</th>\n",
       "      <td>최</td>\n",
       "      <td>용수</td>\n",
       "      <td>48</td>\n",
       "    </tr>\n",
       "  </tbody>\n",
       "</table>\n",
       "</div>"
      ],
      "text/plain": [
       "  family_name first_name  age\n",
       "0           홍         길동   23\n",
       "1           김         철수   45\n",
       "2           이         성계   99\n",
       "3           박         지성   41\n",
       "4           최         용수   48"
      ]
     },
     "execution_count": 2,
     "metadata": {},
     "output_type": "execute_result"
    }
   ],
   "source": [
    "list1 = ['홍', '김', '이', '박', '최']\n",
    "list2 = ['길동', '철수', '성계', '지성', '용수']\n",
    "list3 = [23, 45, 99, 41, 48]\n",
    "names_dic = {'family_name':list1, 'first_name':list2, 'age':list3}\n",
    "names = pd.DataFrame(names_dic)\n",
    "names"
   ]
  },
  {
   "cell_type": "code",
   "execution_count": 3,
   "metadata": {},
   "outputs": [
    {
     "data": {
      "text/plain": [
       "[('홍', '길동', 23),\n",
       " ('김', '철수', 45),\n",
       " ('이', '성계', 99),\n",
       " ('박', '지성', 41),\n",
       " ('최', '용수', 48)]"
      ]
     },
     "execution_count": 3,
     "metadata": {},
     "output_type": "execute_result"
    }
   ],
   "source": [
    "list(zip(list1, list2, list3))"
   ]
  },
  {
   "cell_type": "code",
   "execution_count": 4,
   "metadata": {},
   "outputs": [
    {
     "data": {
      "text/html": [
       "<div>\n",
       "<style scoped>\n",
       "    .dataframe tbody tr th:only-of-type {\n",
       "        vertical-align: middle;\n",
       "    }\n",
       "\n",
       "    .dataframe tbody tr th {\n",
       "        vertical-align: top;\n",
       "    }\n",
       "\n",
       "    .dataframe thead th {\n",
       "        text-align: right;\n",
       "    }\n",
       "</style>\n",
       "<table border=\"1\" class=\"dataframe\">\n",
       "  <thead>\n",
       "    <tr style=\"text-align: right;\">\n",
       "      <th></th>\n",
       "      <th>familyName</th>\n",
       "      <th>firstName</th>\n",
       "      <th>age</th>\n",
       "    </tr>\n",
       "  </thead>\n",
       "  <tbody>\n",
       "    <tr>\n",
       "      <th>0</th>\n",
       "      <td>홍</td>\n",
       "      <td>길동</td>\n",
       "      <td>23</td>\n",
       "    </tr>\n",
       "    <tr>\n",
       "      <th>1</th>\n",
       "      <td>김</td>\n",
       "      <td>철수</td>\n",
       "      <td>45</td>\n",
       "    </tr>\n",
       "    <tr>\n",
       "      <th>2</th>\n",
       "      <td>이</td>\n",
       "      <td>성계</td>\n",
       "      <td>99</td>\n",
       "    </tr>\n",
       "    <tr>\n",
       "      <th>3</th>\n",
       "      <td>박</td>\n",
       "      <td>지성</td>\n",
       "      <td>41</td>\n",
       "    </tr>\n",
       "    <tr>\n",
       "      <th>4</th>\n",
       "      <td>최</td>\n",
       "      <td>용수</td>\n",
       "      <td>48</td>\n",
       "    </tr>\n",
       "  </tbody>\n",
       "</table>\n",
       "</div>"
      ],
      "text/plain": [
       "  familyName firstName  age\n",
       "0          홍        길동   23\n",
       "1          김        철수   45\n",
       "2          이        성계   99\n",
       "3          박        지성   41\n",
       "4          최        용수   48"
      ]
     },
     "execution_count": 4,
     "metadata": {},
     "output_type": "execute_result"
    }
   ],
   "source": [
    "pd.DataFrame(list(zip(list1, list2, list3)),\n",
    " columns=['familyName', 'firstName', 'age'])"
   ]
  },
  {
   "cell_type": "code",
   "execution_count": 5,
   "metadata": {},
   "outputs": [],
   "source": [
    "#list는 길이가 같아야 한다.!"
   ]
  },
  {
   "cell_type": "code",
   "execution_count": 6,
   "metadata": {},
   "outputs": [
    {
     "data": {
      "text/html": [
       "<div>\n",
       "<style scoped>\n",
       "    .dataframe tbody tr th:only-of-type {\n",
       "        vertical-align: middle;\n",
       "    }\n",
       "\n",
       "    .dataframe tbody tr th {\n",
       "        vertical-align: top;\n",
       "    }\n",
       "\n",
       "    .dataframe thead th {\n",
       "        text-align: right;\n",
       "    }\n",
       "</style>\n",
       "<table border=\"1\" class=\"dataframe\">\n",
       "  <thead>\n",
       "    <tr style=\"text-align: right;\">\n",
       "      <th></th>\n",
       "      <th>family_name</th>\n",
       "      <th>first_name</th>\n",
       "      <th>age</th>\n",
       "    </tr>\n",
       "  </thead>\n",
       "  <tbody>\n",
       "    <tr>\n",
       "      <th>1번학생</th>\n",
       "      <td>홍</td>\n",
       "      <td>길동</td>\n",
       "      <td>23</td>\n",
       "    </tr>\n",
       "    <tr>\n",
       "      <th>2번학생</th>\n",
       "      <td>김</td>\n",
       "      <td>철수</td>\n",
       "      <td>45</td>\n",
       "    </tr>\n",
       "    <tr>\n",
       "      <th>3번학생</th>\n",
       "      <td>이</td>\n",
       "      <td>성계</td>\n",
       "      <td>99</td>\n",
       "    </tr>\n",
       "    <tr>\n",
       "      <th>4번학생</th>\n",
       "      <td>박</td>\n",
       "      <td>지성</td>\n",
       "      <td>41</td>\n",
       "    </tr>\n",
       "    <tr>\n",
       "      <th>5번학생</th>\n",
       "      <td>최</td>\n",
       "      <td>용수</td>\n",
       "      <td>48</td>\n",
       "    </tr>\n",
       "  </tbody>\n",
       "</table>\n",
       "</div>"
      ],
      "text/plain": [
       "     family_name first_name  age\n",
       "1번학생           홍         길동   23\n",
       "2번학생           김         철수   45\n",
       "3번학생           이         성계   99\n",
       "4번학생           박         지성   41\n",
       "5번학생           최         용수   48"
      ]
     },
     "execution_count": 6,
     "metadata": {},
     "output_type": "execute_result"
    }
   ],
   "source": [
    "#indaex 생성 \n",
    "names_dic = {'family_name':list1, 'first_name':list2, 'age':list3}\n",
    "names = pd.DataFrame(names_dic,\n",
    " index=['1번학생', '2번학생', '3번학생', '4번학생', '5번학생'])\n",
    "names"
   ]
  },
  {
   "cell_type": "code",
   "execution_count": 7,
   "metadata": {},
   "outputs": [],
   "source": [
    "names = pd.DataFrame(names_dic)\n",
    "names.to_csv('names.csv')\n",
    "new_names = pd.read_csv('names.csv')\n",
    "# 아래와 같은 이상한 값을 처리하기 위해서\n",
    "# 1. names.to_csv('names.csv', index=False)\n",
    "# 2. pd.read_csv('names.csv', index_col=0)"
   ]
  },
  {
   "cell_type": "code",
   "execution_count": 8,
   "metadata": {},
   "outputs": [
    {
     "data": {
      "text/html": [
       "<div>\n",
       "<style scoped>\n",
       "    .dataframe tbody tr th:only-of-type {\n",
       "        vertical-align: middle;\n",
       "    }\n",
       "\n",
       "    .dataframe tbody tr th {\n",
       "        vertical-align: top;\n",
       "    }\n",
       "\n",
       "    .dataframe thead th {\n",
       "        text-align: right;\n",
       "    }\n",
       "</style>\n",
       "<table border=\"1\" class=\"dataframe\">\n",
       "  <thead>\n",
       "    <tr style=\"text-align: right;\">\n",
       "      <th></th>\n",
       "      <th>Unnamed: 0</th>\n",
       "      <th>family_name</th>\n",
       "      <th>first_name</th>\n",
       "      <th>age</th>\n",
       "    </tr>\n",
       "  </thead>\n",
       "  <tbody>\n",
       "    <tr>\n",
       "      <th>0</th>\n",
       "      <td>0</td>\n",
       "      <td>홍</td>\n",
       "      <td>길동</td>\n",
       "      <td>23</td>\n",
       "    </tr>\n",
       "    <tr>\n",
       "      <th>1</th>\n",
       "      <td>1</td>\n",
       "      <td>김</td>\n",
       "      <td>철수</td>\n",
       "      <td>45</td>\n",
       "    </tr>\n",
       "    <tr>\n",
       "      <th>2</th>\n",
       "      <td>2</td>\n",
       "      <td>이</td>\n",
       "      <td>성계</td>\n",
       "      <td>99</td>\n",
       "    </tr>\n",
       "    <tr>\n",
       "      <th>3</th>\n",
       "      <td>3</td>\n",
       "      <td>박</td>\n",
       "      <td>지성</td>\n",
       "      <td>41</td>\n",
       "    </tr>\n",
       "    <tr>\n",
       "      <th>4</th>\n",
       "      <td>4</td>\n",
       "      <td>최</td>\n",
       "      <td>용수</td>\n",
       "      <td>48</td>\n",
       "    </tr>\n",
       "  </tbody>\n",
       "</table>\n",
       "</div>"
      ],
      "text/plain": [
       "   Unnamed: 0 family_name first_name  age\n",
       "0           0           홍         길동   23\n",
       "1           1           김         철수   45\n",
       "2           2           이         성계   99\n",
       "3           3           박         지성   41\n",
       "4           4           최         용수   48"
      ]
     },
     "execution_count": 8,
     "metadata": {},
     "output_type": "execute_result"
    }
   ],
   "source": [
    "new_names"
   ]
  },
  {
   "cell_type": "code",
   "execution_count": 9,
   "metadata": {},
   "outputs": [
    {
     "name": "stdout",
     "output_type": "stream",
     "text": [
      "<class 'pandas.core.frame.DataFrame'>\n",
      "RangeIndex: 1000 entries, 0 to 999\n",
      "Data columns (total 10 columns):\n",
      " #   Column   Non-Null Count  Dtype  \n",
      "---  ------   --------------  -----  \n",
      " 0   carat    1000 non-null   float64\n",
      " 1   cut      1000 non-null   object \n",
      " 2   color    1000 non-null   object \n",
      " 3   clarity  1000 non-null   object \n",
      " 4   depth    1000 non-null   float64\n",
      " 5   table    1000 non-null   float64\n",
      " 6   price    1000 non-null   int64  \n",
      " 7   x        1000 non-null   float64\n",
      " 8   y        1000 non-null   float64\n",
      " 9   z        1000 non-null   float64\n",
      "dtypes: float64(6), int64(1), object(3)\n",
      "memory usage: 78.2+ KB\n"
     ]
    }
   ],
   "source": [
    "diamonds = pd.read_csv('data/diamonds.csv', nrows=1000)\n",
    "diamonds.info()"
   ]
  },
  {
   "cell_type": "code",
   "execution_count": 10,
   "metadata": {},
   "outputs": [],
   "source": [
    "#np.finfo or np.iinfo() 사용 "
   ]
  },
  {
   "cell_type": "code",
   "execution_count": 11,
   "metadata": {},
   "outputs": [
    {
     "name": "stdout",
     "output_type": "stream",
     "text": [
      "<class 'pandas.core.frame.DataFrame'>\n",
      "RangeIndex: 1000 entries, 0 to 999\n",
      "Data columns (total 10 columns):\n",
      " #   Column   Non-Null Count  Dtype  \n",
      "---  ------   --------------  -----  \n",
      " 0   carat    1000 non-null   float16\n",
      " 1   cut      1000 non-null   object \n",
      " 2   color    1000 non-null   object \n",
      " 3   clarity  1000 non-null   object \n",
      " 4   depth    1000 non-null   float16\n",
      " 5   table    1000 non-null   float16\n",
      " 6   price    1000 non-null   int16  \n",
      " 7   x        1000 non-null   float16\n",
      " 8   y        1000 non-null   float16\n",
      " 9   z        1000 non-null   float16\n",
      "dtypes: float16(6), int16(1), object(3)\n",
      "memory usage: 37.2+ KB\n"
     ]
    }
   ],
   "source": [
    "diamonds2 = pd.read_csv('data/diamonds.csv', nrows=1000,\n",
    " dtype={\n",
    " 'carat': np.float16,\n",
    " 'depth': np.float16,\n",
    " 'table': np.float16,\n",
    " 'x': np.float16,\n",
    " 'y': np.float16,\n",
    " 'z': np.float16,\n",
    " 'price': np.int16\n",
    " })\n",
    "diamonds2.info()"
   ]
  },
  {
   "cell_type": "code",
   "execution_count": 12,
   "metadata": {},
   "outputs": [
    {
     "name": "stdout",
     "output_type": "stream",
     "text": [
      "<class 'pandas.core.frame.DataFrame'>\n",
      "RangeIndex: 1000 entries, 0 to 999\n",
      "Data columns (total 10 columns):\n",
      " #   Column   Non-Null Count  Dtype   \n",
      "---  ------   --------------  -----   \n",
      " 0   carat    1000 non-null   float16 \n",
      " 1   cut      1000 non-null   category\n",
      " 2   color    1000 non-null   category\n",
      " 3   clarity  1000 non-null   category\n",
      " 4   depth    1000 non-null   float16 \n",
      " 5   table    1000 non-null   float16 \n",
      " 6   price    1000 non-null   int16   \n",
      " 7   x        1000 non-null   float16 \n",
      " 8   y        1000 non-null   float16 \n",
      " 9   z        1000 non-null   float16 \n",
      "dtypes: category(3), float16(6), int16(1)\n",
      "memory usage: 17.7 KB\n"
     ]
    }
   ],
   "source": [
    "diamonds3 = pd.read_csv('data/diamonds.csv', nrows=1000,\n",
    " dtype={\n",
    " 'carat': np.float16,\n",
    " 'depth': np.float16,\n",
    " 'table': np.float16,\n",
    " 'x': np.float16,\n",
    " 'y': np.float16,\n",
    " 'z': np.float16,\n",
    " 'price': np.int16,\n",
    " 'color': 'category',\n",
    " 'cut': 'category',\n",
    " 'clarity': 'category'\n",
    " })\n",
    "diamonds3.info()"
   ]
  },
  {
   "cell_type": "code",
   "execution_count": 13,
   "metadata": {},
   "outputs": [
    {
     "name": "stdout",
     "output_type": "stream",
     "text": [
      "<class 'pandas.core.frame.DataFrame'>\n",
      "RangeIndex: 1000 entries, 0 to 999\n",
      "Data columns (total 7 columns):\n",
      " #   Column   Non-Null Count  Dtype   \n",
      "---  ------   --------------  -----   \n",
      " 0   carat    1000 non-null   float16 \n",
      " 1   cut      1000 non-null   category\n",
      " 2   color    1000 non-null   category\n",
      " 3   clarity  1000 non-null   category\n",
      " 4   depth    1000 non-null   float16 \n",
      " 5   table    1000 non-null   float16 \n",
      " 6   price    1000 non-null   int16   \n",
      "dtypes: category(3), float16(3), int16(1)\n",
      "memory usage: 11.8 KB\n"
     ]
    }
   ],
   "source": [
    "cols = ['carat', 'cut', 'color', 'clarity', 'depth', 'table', 'price']\n",
    "diamonds4 = pd.read_csv('data/diamonds.csv', nrows=1000,\n",
    " dtype={\n",
    " 'carat': np.float16,\n",
    " 'depth': np.float16,\n",
    " 'price': np.int16,\n",
    " 'table': np.float16,\n",
    " 'color': 'category',\n",
    " 'cut': 'category',\n",
    " 'clarity': 'category'\n",
    " },\n",
    " usecols=cols)\n",
    "diamonds4.info()"
   ]
  },
  {
   "cell_type": "code",
   "execution_count": 14,
   "metadata": {},
   "outputs": [
    {
     "name": "stdout",
     "output_type": "stream",
     "text": [
      "processed (200, 7) shape of df\n",
      "processed (200, 7) shape of df\n",
      "processed (200, 7) shape of df\n",
      "processed (200, 7) shape of df\n",
      "processed (200, 7) shape of df\n"
     ]
    }
   ],
   "source": [
    "cols = ['carat', 'cut', 'color', 'clarity', 'depth', 'table', 'price']\n",
    "diamonds_iter = pd.read_csv('data/diamonds.csv', nrows=1000,\n",
    " dtype={\n",
    " 'carat': np.float16,\n",
    " 'depth': np.float16,\n",
    " 'price': np.int16,\n",
    " 'color': 'category',\n",
    " 'cut': 'category',\n",
    " 'clarity': 'category'\n",
    " },\n",
    " usecols=cols,\n",
    " chunksize=200 #이 부분이죠!\n",
    " )\n",
    "def process(df):\n",
    " return f'processed {df.shape} shape of df'\n",
    "for chunk in diamonds_iter:\n",
    " print(process(chunk))"
   ]
  },
  {
   "cell_type": "code",
   "execution_count": null,
   "metadata": {},
   "outputs": [],
   "source": [
    "#.xlsx > openpyxl 라이브러리 필요 \n",
    "#db 작업 -> import sqlite3 [db파일과 연결] and import sqlalchemy as sa [db파일에서 read_sql 실행]\n",
    "#.json(JavaScript Object Notation) > import json > json.dumps(names_dic, ensure_ascii=False)\n",
    "#.json -> names.to_json(orient='records', force_ascii=False)\n",
    "# pd.read_json(json_index, orient='')"
   ]
  },
  {
   "cell_type": "markdown",
   "metadata": {},
   "source": [
    "columns\n",
    "records\n",
    "split\n",
    "index\n",
    "values\n",
    "table"
   ]
  },
  {
   "cell_type": "code",
   "execution_count": 15,
   "metadata": {},
   "outputs": [
    {
     "data": {
      "text/plain": [
       "'[[\"홍\",\"길동\",23],[\"김\",\"철수\",45],[\"이\",\"성계\",99],[\"박\",\"지성\",41],[\"최\",\"용수\",48]]'"
      ]
     },
     "execution_count": 15,
     "metadata": {},
     "output_type": "execute_result"
    }
   ],
   "source": [
    "#values 는 각 행을 list 로 표현합니다. 열/인덱스 값은 포함하지 않는다는 것을 기억하세요!\n",
    "json_values = names.to_json(orient='values', force_ascii=False)\n",
    "json_values\n",
    "# pd.read_json(json_values).rename(columns={0:'성', 1:'이름', 2:'나이'})"
   ]
  },
  {
   "cell_type": "code",
   "execution_count": 17,
   "metadata": {},
   "outputs": [
    {
     "data": {
      "text/html": [
       "<div>\n",
       "<style scoped>\n",
       "    .dataframe tbody tr th:only-of-type {\n",
       "        vertical-align: middle;\n",
       "    }\n",
       "\n",
       "    .dataframe tbody tr th {\n",
       "        vertical-align: top;\n",
       "    }\n",
       "\n",
       "    .dataframe thead th {\n",
       "        text-align: right;\n",
       "    }\n",
       "</style>\n",
       "<table border=\"1\" class=\"dataframe\">\n",
       "  <thead>\n",
       "    <tr style=\"text-align: right;\">\n",
       "      <th></th>\n",
       "      <th>family_name</th>\n",
       "      <th>first_name</th>\n",
       "      <th>age</th>\n",
       "    </tr>\n",
       "  </thead>\n",
       "  <tbody>\n",
       "    <tr>\n",
       "      <th>0</th>\n",
       "      <td>홍</td>\n",
       "      <td>길동</td>\n",
       "      <td>23</td>\n",
       "    </tr>\n",
       "    <tr>\n",
       "      <th>1</th>\n",
       "      <td>김</td>\n",
       "      <td>철수</td>\n",
       "      <td>45</td>\n",
       "    </tr>\n",
       "    <tr>\n",
       "      <th>2</th>\n",
       "      <td>이</td>\n",
       "      <td>성계</td>\n",
       "      <td>99</td>\n",
       "    </tr>\n",
       "    <tr>\n",
       "      <th>3</th>\n",
       "      <td>박</td>\n",
       "      <td>지성</td>\n",
       "      <td>41</td>\n",
       "    </tr>\n",
       "    <tr>\n",
       "      <th>4</th>\n",
       "      <td>최</td>\n",
       "      <td>용수</td>\n",
       "      <td>48</td>\n",
       "    </tr>\n",
       "  </tbody>\n",
       "</table>\n",
       "</div>"
      ],
      "text/plain": [
       "  family_name first_name  age\n",
       "0           홍         길동   23\n",
       "1           김         철수   45\n",
       "2           이         성계   99\n",
       "3           박         지성   41\n",
       "4           최         용수   48"
      ]
     },
     "execution_count": 17,
     "metadata": {},
     "output_type": "execute_result"
    }
   ],
   "source": [
    "json_table = names.to_json(orient='table', force_ascii=False)\n",
    "json_table\n",
    "pd.read_json(json_table, orient='table')"
   ]
  },
  {
   "cell_type": "code",
   "execution_count": null,
   "metadata": {},
   "outputs": [],
   "source": []
  }
 ],
 "metadata": {
  "kernelspec": {
   "display_name": "Python 3",
   "language": "python",
   "name": "python3"
  },
  "language_info": {
   "codemirror_mode": {
    "name": "ipython",
    "version": 3
   },
   "file_extension": ".py",
   "mimetype": "text/x-python",
   "name": "python",
   "nbconvert_exporter": "python",
   "pygments_lexer": "ipython3",
   "version": "3.8.5"
  }
 },
 "nbformat": 4,
 "nbformat_minor": 4
}
