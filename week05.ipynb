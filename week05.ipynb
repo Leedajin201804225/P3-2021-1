{
 "cells": [
  {
   "cell_type": "code",
   "execution_count": 1,
   "metadata": {},
   "outputs": [],
   "source": [
    "import pandas as pd\n",
    "import numpy as np"
   ]
  },
  {
   "cell_type": "code",
   "execution_count": 2,
   "metadata": {},
   "outputs": [
    {
     "name": "stderr",
     "output_type": "stream",
     "text": [
      "C:\\Users\\dajin\\Anaconda3\\lib\\site-packages\\IPython\\core\\interactiveshell.py:3146: DtypeWarning: Columns (70,71,72,73,74,76,79) have mixed types.Specify dtype option on import or set low_memory=False.\n",
      "  has_raised = await self.run_ast_nodes(code_ast.body, cell_name,\n"
     ]
    },
    {
     "data": {
      "text/html": [
       "<div>\n",
       "<style scoped>\n",
       "    .dataframe tbody tr th:only-of-type {\n",
       "        vertical-align: middle;\n",
       "    }\n",
       "\n",
       "    .dataframe tbody tr th {\n",
       "        vertical-align: top;\n",
       "    }\n",
       "\n",
       "    .dataframe thead th {\n",
       "        text-align: right;\n",
       "    }\n",
       "</style>\n",
       "<table border=\"1\" class=\"dataframe\">\n",
       "  <thead>\n",
       "    <tr style=\"text-align: right;\">\n",
       "      <th></th>\n",
       "      <th>barrels08</th>\n",
       "      <th>barrelsA08</th>\n",
       "      <th>charge120</th>\n",
       "      <th>charge240</th>\n",
       "      <th>city08</th>\n",
       "      <th>city08U</th>\n",
       "      <th>cityA08</th>\n",
       "      <th>cityA08U</th>\n",
       "      <th>cityCD</th>\n",
       "      <th>cityE</th>\n",
       "      <th>...</th>\n",
       "      <th>mfrCode</th>\n",
       "      <th>c240Dscr</th>\n",
       "      <th>charge240b</th>\n",
       "      <th>c240bDscr</th>\n",
       "      <th>createdOn</th>\n",
       "      <th>modifiedOn</th>\n",
       "      <th>startStop</th>\n",
       "      <th>phevCity</th>\n",
       "      <th>phevHwy</th>\n",
       "      <th>phevComb</th>\n",
       "    </tr>\n",
       "  </thead>\n",
       "  <tbody>\n",
       "    <tr>\n",
       "      <th>0</th>\n",
       "      <td>15.695714</td>\n",
       "      <td>0.0</td>\n",
       "      <td>0.0</td>\n",
       "      <td>0.0</td>\n",
       "      <td>19</td>\n",
       "      <td>0.0</td>\n",
       "      <td>0</td>\n",
       "      <td>0.0</td>\n",
       "      <td>0.0</td>\n",
       "      <td>0.0</td>\n",
       "      <td>...</td>\n",
       "      <td>NaN</td>\n",
       "      <td>NaN</td>\n",
       "      <td>0.0</td>\n",
       "      <td>NaN</td>\n",
       "      <td>Tue Jan 01 00:00:00 EST 2013</td>\n",
       "      <td>Tue Jan 01 00:00:00 EST 2013</td>\n",
       "      <td>NaN</td>\n",
       "      <td>0</td>\n",
       "      <td>0</td>\n",
       "      <td>0</td>\n",
       "    </tr>\n",
       "    <tr>\n",
       "      <th>1</th>\n",
       "      <td>29.964545</td>\n",
       "      <td>0.0</td>\n",
       "      <td>0.0</td>\n",
       "      <td>0.0</td>\n",
       "      <td>9</td>\n",
       "      <td>0.0</td>\n",
       "      <td>0</td>\n",
       "      <td>0.0</td>\n",
       "      <td>0.0</td>\n",
       "      <td>0.0</td>\n",
       "      <td>...</td>\n",
       "      <td>NaN</td>\n",
       "      <td>NaN</td>\n",
       "      <td>0.0</td>\n",
       "      <td>NaN</td>\n",
       "      <td>Tue Jan 01 00:00:00 EST 2013</td>\n",
       "      <td>Tue Jan 01 00:00:00 EST 2013</td>\n",
       "      <td>NaN</td>\n",
       "      <td>0</td>\n",
       "      <td>0</td>\n",
       "      <td>0</td>\n",
       "    </tr>\n",
       "    <tr>\n",
       "      <th>2</th>\n",
       "      <td>12.207778</td>\n",
       "      <td>0.0</td>\n",
       "      <td>0.0</td>\n",
       "      <td>0.0</td>\n",
       "      <td>23</td>\n",
       "      <td>0.0</td>\n",
       "      <td>0</td>\n",
       "      <td>0.0</td>\n",
       "      <td>0.0</td>\n",
       "      <td>0.0</td>\n",
       "      <td>...</td>\n",
       "      <td>NaN</td>\n",
       "      <td>NaN</td>\n",
       "      <td>0.0</td>\n",
       "      <td>NaN</td>\n",
       "      <td>Tue Jan 01 00:00:00 EST 2013</td>\n",
       "      <td>Tue Jan 01 00:00:00 EST 2013</td>\n",
       "      <td>NaN</td>\n",
       "      <td>0</td>\n",
       "      <td>0</td>\n",
       "      <td>0</td>\n",
       "    </tr>\n",
       "    <tr>\n",
       "      <th>3</th>\n",
       "      <td>29.964545</td>\n",
       "      <td>0.0</td>\n",
       "      <td>0.0</td>\n",
       "      <td>0.0</td>\n",
       "      <td>10</td>\n",
       "      <td>0.0</td>\n",
       "      <td>0</td>\n",
       "      <td>0.0</td>\n",
       "      <td>0.0</td>\n",
       "      <td>0.0</td>\n",
       "      <td>...</td>\n",
       "      <td>NaN</td>\n",
       "      <td>NaN</td>\n",
       "      <td>0.0</td>\n",
       "      <td>NaN</td>\n",
       "      <td>Tue Jan 01 00:00:00 EST 2013</td>\n",
       "      <td>Tue Jan 01 00:00:00 EST 2013</td>\n",
       "      <td>NaN</td>\n",
       "      <td>0</td>\n",
       "      <td>0</td>\n",
       "      <td>0</td>\n",
       "    </tr>\n",
       "    <tr>\n",
       "      <th>4</th>\n",
       "      <td>17.347895</td>\n",
       "      <td>0.0</td>\n",
       "      <td>0.0</td>\n",
       "      <td>0.0</td>\n",
       "      <td>17</td>\n",
       "      <td>0.0</td>\n",
       "      <td>0</td>\n",
       "      <td>0.0</td>\n",
       "      <td>0.0</td>\n",
       "      <td>0.0</td>\n",
       "      <td>...</td>\n",
       "      <td>NaN</td>\n",
       "      <td>NaN</td>\n",
       "      <td>0.0</td>\n",
       "      <td>NaN</td>\n",
       "      <td>Tue Jan 01 00:00:00 EST 2013</td>\n",
       "      <td>Tue Jan 01 00:00:00 EST 2013</td>\n",
       "      <td>NaN</td>\n",
       "      <td>0</td>\n",
       "      <td>0</td>\n",
       "      <td>0</td>\n",
       "    </tr>\n",
       "    <tr>\n",
       "      <th>...</th>\n",
       "      <td>...</td>\n",
       "      <td>...</td>\n",
       "      <td>...</td>\n",
       "      <td>...</td>\n",
       "      <td>...</td>\n",
       "      <td>...</td>\n",
       "      <td>...</td>\n",
       "      <td>...</td>\n",
       "      <td>...</td>\n",
       "      <td>...</td>\n",
       "      <td>...</td>\n",
       "      <td>...</td>\n",
       "      <td>...</td>\n",
       "      <td>...</td>\n",
       "      <td>...</td>\n",
       "      <td>...</td>\n",
       "      <td>...</td>\n",
       "      <td>...</td>\n",
       "      <td>...</td>\n",
       "      <td>...</td>\n",
       "      <td>...</td>\n",
       "    </tr>\n",
       "    <tr>\n",
       "      <th>43491</th>\n",
       "      <td>14.982273</td>\n",
       "      <td>0.0</td>\n",
       "      <td>0.0</td>\n",
       "      <td>0.0</td>\n",
       "      <td>19</td>\n",
       "      <td>0.0</td>\n",
       "      <td>0</td>\n",
       "      <td>0.0</td>\n",
       "      <td>0.0</td>\n",
       "      <td>0.0</td>\n",
       "      <td>...</td>\n",
       "      <td>NaN</td>\n",
       "      <td>NaN</td>\n",
       "      <td>0.0</td>\n",
       "      <td>NaN</td>\n",
       "      <td>Tue Jan 01 00:00:00 EST 2013</td>\n",
       "      <td>Tue Jan 01 00:00:00 EST 2013</td>\n",
       "      <td>NaN</td>\n",
       "      <td>0</td>\n",
       "      <td>0</td>\n",
       "      <td>0</td>\n",
       "    </tr>\n",
       "    <tr>\n",
       "      <th>43492</th>\n",
       "      <td>14.330870</td>\n",
       "      <td>0.0</td>\n",
       "      <td>0.0</td>\n",
       "      <td>0.0</td>\n",
       "      <td>20</td>\n",
       "      <td>0.0</td>\n",
       "      <td>0</td>\n",
       "      <td>0.0</td>\n",
       "      <td>0.0</td>\n",
       "      <td>0.0</td>\n",
       "      <td>...</td>\n",
       "      <td>NaN</td>\n",
       "      <td>NaN</td>\n",
       "      <td>0.0</td>\n",
       "      <td>NaN</td>\n",
       "      <td>Tue Jan 01 00:00:00 EST 2013</td>\n",
       "      <td>Tue Jan 01 00:00:00 EST 2013</td>\n",
       "      <td>NaN</td>\n",
       "      <td>0</td>\n",
       "      <td>0</td>\n",
       "      <td>0</td>\n",
       "    </tr>\n",
       "    <tr>\n",
       "      <th>43493</th>\n",
       "      <td>15.695714</td>\n",
       "      <td>0.0</td>\n",
       "      <td>0.0</td>\n",
       "      <td>0.0</td>\n",
       "      <td>18</td>\n",
       "      <td>0.0</td>\n",
       "      <td>0</td>\n",
       "      <td>0.0</td>\n",
       "      <td>0.0</td>\n",
       "      <td>0.0</td>\n",
       "      <td>...</td>\n",
       "      <td>NaN</td>\n",
       "      <td>NaN</td>\n",
       "      <td>0.0</td>\n",
       "      <td>NaN</td>\n",
       "      <td>Tue Jan 01 00:00:00 EST 2013</td>\n",
       "      <td>Tue Jan 01 00:00:00 EST 2013</td>\n",
       "      <td>NaN</td>\n",
       "      <td>0</td>\n",
       "      <td>0</td>\n",
       "      <td>0</td>\n",
       "    </tr>\n",
       "    <tr>\n",
       "      <th>43494</th>\n",
       "      <td>15.695714</td>\n",
       "      <td>0.0</td>\n",
       "      <td>0.0</td>\n",
       "      <td>0.0</td>\n",
       "      <td>18</td>\n",
       "      <td>0.0</td>\n",
       "      <td>0</td>\n",
       "      <td>0.0</td>\n",
       "      <td>0.0</td>\n",
       "      <td>0.0</td>\n",
       "      <td>...</td>\n",
       "      <td>NaN</td>\n",
       "      <td>NaN</td>\n",
       "      <td>0.0</td>\n",
       "      <td>NaN</td>\n",
       "      <td>Tue Jan 01 00:00:00 EST 2013</td>\n",
       "      <td>Tue Jan 01 00:00:00 EST 2013</td>\n",
       "      <td>NaN</td>\n",
       "      <td>0</td>\n",
       "      <td>0</td>\n",
       "      <td>0</td>\n",
       "    </tr>\n",
       "    <tr>\n",
       "      <th>43495</th>\n",
       "      <td>18.311667</td>\n",
       "      <td>0.0</td>\n",
       "      <td>0.0</td>\n",
       "      <td>0.0</td>\n",
       "      <td>16</td>\n",
       "      <td>0.0</td>\n",
       "      <td>0</td>\n",
       "      <td>0.0</td>\n",
       "      <td>0.0</td>\n",
       "      <td>0.0</td>\n",
       "      <td>...</td>\n",
       "      <td>NaN</td>\n",
       "      <td>NaN</td>\n",
       "      <td>0.0</td>\n",
       "      <td>NaN</td>\n",
       "      <td>Tue Jan 01 00:00:00 EST 2013</td>\n",
       "      <td>Tue Jan 01 00:00:00 EST 2013</td>\n",
       "      <td>NaN</td>\n",
       "      <td>0</td>\n",
       "      <td>0</td>\n",
       "      <td>0</td>\n",
       "    </tr>\n",
       "  </tbody>\n",
       "</table>\n",
       "<p>43496 rows × 83 columns</p>\n",
       "</div>"
      ],
      "text/plain": [
       "       barrels08  barrelsA08  charge120  charge240  city08  city08U  cityA08  \\\n",
       "0      15.695714         0.0        0.0        0.0      19      0.0        0   \n",
       "1      29.964545         0.0        0.0        0.0       9      0.0        0   \n",
       "2      12.207778         0.0        0.0        0.0      23      0.0        0   \n",
       "3      29.964545         0.0        0.0        0.0      10      0.0        0   \n",
       "4      17.347895         0.0        0.0        0.0      17      0.0        0   \n",
       "...          ...         ...        ...        ...     ...      ...      ...   \n",
       "43491  14.982273         0.0        0.0        0.0      19      0.0        0   \n",
       "43492  14.330870         0.0        0.0        0.0      20      0.0        0   \n",
       "43493  15.695714         0.0        0.0        0.0      18      0.0        0   \n",
       "43494  15.695714         0.0        0.0        0.0      18      0.0        0   \n",
       "43495  18.311667         0.0        0.0        0.0      16      0.0        0   \n",
       "\n",
       "       cityA08U  cityCD  cityE  ...  mfrCode  c240Dscr  charge240b  c240bDscr  \\\n",
       "0           0.0     0.0    0.0  ...      NaN       NaN         0.0        NaN   \n",
       "1           0.0     0.0    0.0  ...      NaN       NaN         0.0        NaN   \n",
       "2           0.0     0.0    0.0  ...      NaN       NaN         0.0        NaN   \n",
       "3           0.0     0.0    0.0  ...      NaN       NaN         0.0        NaN   \n",
       "4           0.0     0.0    0.0  ...      NaN       NaN         0.0        NaN   \n",
       "...         ...     ...    ...  ...      ...       ...         ...        ...   \n",
       "43491       0.0     0.0    0.0  ...      NaN       NaN         0.0        NaN   \n",
       "43492       0.0     0.0    0.0  ...      NaN       NaN         0.0        NaN   \n",
       "43493       0.0     0.0    0.0  ...      NaN       NaN         0.0        NaN   \n",
       "43494       0.0     0.0    0.0  ...      NaN       NaN         0.0        NaN   \n",
       "43495       0.0     0.0    0.0  ...      NaN       NaN         0.0        NaN   \n",
       "\n",
       "                          createdOn                    modifiedOn  startStop  \\\n",
       "0      Tue Jan 01 00:00:00 EST 2013  Tue Jan 01 00:00:00 EST 2013        NaN   \n",
       "1      Tue Jan 01 00:00:00 EST 2013  Tue Jan 01 00:00:00 EST 2013        NaN   \n",
       "2      Tue Jan 01 00:00:00 EST 2013  Tue Jan 01 00:00:00 EST 2013        NaN   \n",
       "3      Tue Jan 01 00:00:00 EST 2013  Tue Jan 01 00:00:00 EST 2013        NaN   \n",
       "4      Tue Jan 01 00:00:00 EST 2013  Tue Jan 01 00:00:00 EST 2013        NaN   \n",
       "...                             ...                           ...        ...   \n",
       "43491  Tue Jan 01 00:00:00 EST 2013  Tue Jan 01 00:00:00 EST 2013        NaN   \n",
       "43492  Tue Jan 01 00:00:00 EST 2013  Tue Jan 01 00:00:00 EST 2013        NaN   \n",
       "43493  Tue Jan 01 00:00:00 EST 2013  Tue Jan 01 00:00:00 EST 2013        NaN   \n",
       "43494  Tue Jan 01 00:00:00 EST 2013  Tue Jan 01 00:00:00 EST 2013        NaN   \n",
       "43495  Tue Jan 01 00:00:00 EST 2013  Tue Jan 01 00:00:00 EST 2013        NaN   \n",
       "\n",
       "       phevCity  phevHwy  phevComb  \n",
       "0             0        0         0  \n",
       "1             0        0         0  \n",
       "2             0        0         0  \n",
       "3             0        0         0  \n",
       "4             0        0         0  \n",
       "...         ...      ...       ...  \n",
       "43491         0        0         0  \n",
       "43492         0        0         0  \n",
       "43493         0        0         0  \n",
       "43494         0        0         0  \n",
       "43495         0        0         0  \n",
       "\n",
       "[43496 rows x 83 columns]"
      ]
     },
     "execution_count": 2,
     "metadata": {},
     "output_type": "execute_result"
    }
   ],
   "source": [
    "fueleco = pd.read_csv('data/vehicles.csv.zip')\n",
    "fueleco"
   ]
  },
  {
   "cell_type": "code",
   "execution_count": 4,
   "metadata": {},
   "outputs": [
    {
     "name": "stdout",
     "output_type": "stream",
     "text": [
      "<class 'pandas.core.frame.DataFrame'>\n",
      "RangeIndex: 43496 entries, 0 to 43495\n",
      "Data columns (total 83 columns):\n",
      " #   Column           Non-Null Count  Dtype  \n",
      "---  ------           --------------  -----  \n",
      " 0   barrels08        43496 non-null  float64\n",
      " 1   barrelsA08       43496 non-null  float64\n",
      " 2   charge120        43496 non-null  float64\n",
      " 3   charge240        43496 non-null  float64\n",
      " 4   city08           43496 non-null  int64  \n",
      " 5   city08U          43496 non-null  float64\n",
      " 6   cityA08          43496 non-null  int64  \n",
      " 7   cityA08U         43496 non-null  float64\n",
      " 8   cityCD           43496 non-null  float64\n",
      " 9   cityE            43496 non-null  float64\n",
      " 10  cityUF           43496 non-null  float64\n",
      " 11  co2              43496 non-null  int64  \n",
      " 12  co2A             43496 non-null  int64  \n",
      " 13  co2TailpipeAGpm  43496 non-null  float64\n",
      " 14  co2TailpipeGpm   43496 non-null  float64\n",
      " 15  comb08           43496 non-null  int64  \n",
      " 16  comb08U          43496 non-null  float64\n",
      " 17  combA08          43496 non-null  int64  \n",
      " 18  combA08U         43496 non-null  float64\n",
      " 19  combE            43496 non-null  float64\n",
      " 20  combinedCD       43496 non-null  float64\n",
      " 21  combinedUF       43496 non-null  float64\n",
      " 22  cylinders        43213 non-null  float64\n",
      " 23  displ            43215 non-null  float64\n",
      " 24  drive            42310 non-null  object \n",
      " 25  engId            43496 non-null  int64  \n",
      " 26  eng_dscr         26958 non-null  object \n",
      " 27  feScore          43496 non-null  int64  \n",
      " 28  fuelCost08       43496 non-null  int64  \n",
      " 29  fuelCostA08      43496 non-null  int64  \n",
      " 30  fuelType         43496 non-null  object \n",
      " 31  fuelType1        43496 non-null  object \n",
      " 32  ghgScore         43496 non-null  int64  \n",
      " 33  ghgScoreA        43496 non-null  int64  \n",
      " 34  highway08        43496 non-null  int64  \n",
      " 35  highway08U       43496 non-null  float64\n",
      " 36  highwayA08       43496 non-null  int64  \n",
      " 37  highwayA08U      43496 non-null  float64\n",
      " 38  highwayCD        43496 non-null  float64\n",
      " 39  highwayE         43496 non-null  float64\n",
      " 40  highwayUF        43496 non-null  float64\n",
      " 41  hlv              43496 non-null  int64  \n",
      " 42  hpv              43496 non-null  int64  \n",
      " 43  id               43496 non-null  int64  \n",
      " 44  lv2              43496 non-null  int64  \n",
      " 45  lv4              43496 non-null  int64  \n",
      " 46  make             43496 non-null  object \n",
      " 47  model            43496 non-null  object \n",
      " 48  mpgData          43490 non-null  object \n",
      " 49  phevBlended      43496 non-null  bool   \n",
      " 50  pv2              43496 non-null  int64  \n",
      " 51  pv4              43496 non-null  int64  \n",
      " 52  range            43496 non-null  int64  \n",
      " 53  rangeCity        43496 non-null  float64\n",
      " 54  rangeCityA       43496 non-null  float64\n",
      " 55  rangeHwy         43496 non-null  float64\n",
      " 56  rangeHwyA        43496 non-null  float64\n",
      " 57  trany            43485 non-null  object \n",
      " 58  UCity            43496 non-null  float64\n",
      " 59  UCityA           43496 non-null  float64\n",
      " 60  UHighway         43496 non-null  float64\n",
      " 61  UHighwayA        43496 non-null  float64\n",
      " 62  VClass           43496 non-null  object \n",
      " 63  year             43496 non-null  int64  \n",
      " 64  youSaveSpend     43496 non-null  int64  \n",
      " 65  guzzler          2562 non-null   object \n",
      " 66  trans_dscr       15044 non-null  object \n",
      " 67  tCharger         8191 non-null   object \n",
      " 68  sCharger         916 non-null    object \n",
      " 69  atvType          3991 non-null   object \n",
      " 70  fuelType2        1731 non-null   object \n",
      " 71  rangeA           1726 non-null   object \n",
      " 72  evMotor          1225 non-null   object \n",
      " 73  mfrCode          12688 non-null  object \n",
      " 74  c240Dscr         116 non-null    object \n",
      " 75  charge240b       43496 non-null  float64\n",
      " 76  c240bDscr        110 non-null    object \n",
      " 77  createdOn        43496 non-null  object \n",
      " 78  modifiedOn       43496 non-null  object \n",
      " 79  startStop        11807 non-null  object \n",
      " 80  phevCity         43496 non-null  int64  \n",
      " 81  phevHwy          43496 non-null  int64  \n",
      " 82  phevComb         43496 non-null  int64  \n",
      "dtypes: bool(1), float64(32), int64(27), object(23)\n",
      "memory usage: 27.3+ MB\n"
     ]
    }
   ],
   "source": [
    "fueleco.info()"
   ]
  },
  {
   "cell_type": "code",
   "execution_count": 5,
   "metadata": {},
   "outputs": [
    {
     "data": {
      "text/plain": [
       "barrels08     4.680931\n",
       "barrelsA08    1.141130\n",
       "charge120     0.000000\n",
       "charge240     0.745826\n",
       "city08        8.795557\n",
       "dtype: float64"
      ]
     },
     "execution_count": 5,
     "metadata": {},
     "output_type": "execute_result"
    }
   ],
   "source": [
    "#표준편차\n",
    "fueleco.std().head()"
   ]
  },
  {
   "cell_type": "code",
   "execution_count": 6,
   "metadata": {},
   "outputs": [
    {
     "data": {
      "text/html": [
       "<div>\n",
       "<style scoped>\n",
       "    .dataframe tbody tr th:only-of-type {\n",
       "        vertical-align: middle;\n",
       "    }\n",
       "\n",
       "    .dataframe tbody tr th {\n",
       "        vertical-align: top;\n",
       "    }\n",
       "\n",
       "    .dataframe thead th {\n",
       "        text-align: right;\n",
       "    }\n",
       "</style>\n",
       "<table border=\"1\" class=\"dataframe\">\n",
       "  <thead>\n",
       "    <tr style=\"text-align: right;\">\n",
       "      <th></th>\n",
       "      <th>count</th>\n",
       "      <th>mean</th>\n",
       "      <th>std</th>\n",
       "      <th>min</th>\n",
       "      <th>25%</th>\n",
       "      <th>50%</th>\n",
       "      <th>75%</th>\n",
       "      <th>max</th>\n",
       "    </tr>\n",
       "  </thead>\n",
       "  <tbody>\n",
       "    <tr>\n",
       "      <th>barrels08</th>\n",
       "      <td>43496.0</td>\n",
       "      <td>17.127779</td>\n",
       "      <td>4.680931</td>\n",
       "      <td>0.06</td>\n",
       "      <td>14.33087</td>\n",
       "      <td>16.4805</td>\n",
       "      <td>19.388824</td>\n",
       "      <td>47.087143</td>\n",
       "    </tr>\n",
       "    <tr>\n",
       "      <th>barrelsA08</th>\n",
       "      <td>43496.0</td>\n",
       "      <td>0.221471</td>\n",
       "      <td>1.141130</td>\n",
       "      <td>0.00</td>\n",
       "      <td>0.00000</td>\n",
       "      <td>0.0000</td>\n",
       "      <td>0.000000</td>\n",
       "      <td>18.311667</td>\n",
       "    </tr>\n",
       "    <tr>\n",
       "      <th>charge120</th>\n",
       "      <td>43496.0</td>\n",
       "      <td>0.000000</td>\n",
       "      <td>0.000000</td>\n",
       "      <td>0.00</td>\n",
       "      <td>0.00000</td>\n",
       "      <td>0.0000</td>\n",
       "      <td>0.000000</td>\n",
       "      <td>0.000000</td>\n",
       "    </tr>\n",
       "    <tr>\n",
       "      <th>charge240</th>\n",
       "      <td>43496.0</td>\n",
       "      <td>0.067088</td>\n",
       "      <td>0.745826</td>\n",
       "      <td>0.00</td>\n",
       "      <td>0.00000</td>\n",
       "      <td>0.0000</td>\n",
       "      <td>0.000000</td>\n",
       "      <td>15.300000</td>\n",
       "    </tr>\n",
       "    <tr>\n",
       "      <th>city08</th>\n",
       "      <td>43496.0</td>\n",
       "      <td>18.666774</td>\n",
       "      <td>8.795557</td>\n",
       "      <td>6.00</td>\n",
       "      <td>15.00000</td>\n",
       "      <td>17.0000</td>\n",
       "      <td>21.000000</td>\n",
       "      <td>150.000000</td>\n",
       "    </tr>\n",
       "  </tbody>\n",
       "</table>\n",
       "</div>"
      ],
      "text/plain": [
       "              count       mean       std   min       25%      50%        75%  \\\n",
       "barrels08   43496.0  17.127779  4.680931  0.06  14.33087  16.4805  19.388824   \n",
       "barrelsA08  43496.0   0.221471  1.141130  0.00   0.00000   0.0000   0.000000   \n",
       "charge120   43496.0   0.000000  0.000000  0.00   0.00000   0.0000   0.000000   \n",
       "charge240   43496.0   0.067088  0.745826  0.00   0.00000   0.0000   0.000000   \n",
       "city08      43496.0  18.666774  8.795557  6.00  15.00000  17.0000  21.000000   \n",
       "\n",
       "                   max  \n",
       "barrels08    47.087143  \n",
       "barrelsA08   18.311667  \n",
       "charge120     0.000000  \n",
       "charge240    15.300000  \n",
       "city08      150.000000  "
      ]
     },
     "execution_count": 6,
     "metadata": {},
     "output_type": "execute_result"
    }
   ],
   "source": [
    "fueleco.describe().T.head()"
   ]
  },
  {
   "cell_type": "code",
   "execution_count": 7,
   "metadata": {},
   "outputs": [
    {
     "data": {
      "text/plain": [
       "float64    32\n",
       "int64      27\n",
       "object     23\n",
       "bool        1\n",
       "dtype: int64"
      ]
     },
     "execution_count": 7,
     "metadata": {},
     "output_type": "execute_result"
    }
   ],
   "source": [
    "fueleco.dtypes.value_counts()"
   ]
  },
  {
   "cell_type": "code",
   "execution_count": 8,
   "metadata": {},
   "outputs": [
    {
     "name": "stdout",
     "output_type": "stream",
     "text": [
      "<class 'pandas.core.frame.DataFrame'>\n",
      "RangeIndex: 43496 entries, 0 to 43495\n",
      "Data columns (total 2 columns):\n",
      " #   Column  Non-Null Count  Dtype\n",
      "---  ------  --------------  -----\n",
      " 0   city08  43496 non-null  int16\n",
      " 1   comb08  43496 non-null  int16\n",
      "dtypes: int16(2)\n",
      "memory usage: 170.0 KB\n"
     ]
    }
   ],
   "source": [
    "(\n",
    " fueleco[['city08', 'comb08']]\n",
    " .assign(city08=fueleco.city08.astype(np.int16),\n",
    " comb08=fueleco.comb08.astype(np.int16))\n",
    " .info(memory_usage='deep')\n",
    ")"
   ]
  },
  {
   "cell_type": "code",
   "execution_count": 9,
   "metadata": {},
   "outputs": [
    {
     "data": {
      "text/plain": [
       "Index       128\n",
       "make     101603\n",
       "dtype: int64"
      ]
     },
     "execution_count": 9,
     "metadata": {},
     "output_type": "execute_result"
    }
   ],
   "source": [
    "(\n",
    " fueleco[['make']]\n",
    " .assign(make=fueleco.make.astype('category'))\n",
    " .memory_usage(deep=True)\n",
    ")"
   ]
  },
  {
   "cell_type": "code",
   "execution_count": 10,
   "metadata": {},
   "outputs": [
    {
     "data": {
      "text/plain": [
       "Index       128\n",
       "model    558545\n",
       "dtype: int64"
      ]
     },
     "execution_count": 10,
     "metadata": {},
     "output_type": "execute_result"
    }
   ],
   "source": [
    "(\n",
    " fueleco[['model']]\n",
    " .assign(model=fueleco.model.astype('category'))\n",
    " .memory_usage(deep=True)\n",
    ")"
   ]
  },
  {
   "cell_type": "code",
   "execution_count": 11,
   "metadata": {},
   "outputs": [
    {
     "data": {
      "text/plain": [
       "Index(['drive', 'eng_dscr', 'fuelType', 'fuelType1', 'make', 'model',\n",
       "       'mpgData', 'trany', 'VClass', 'guzzler', 'trans_dscr', 'tCharger',\n",
       "       'sCharger', 'atvType', 'fuelType2', 'rangeA', 'evMotor', 'mfrCode',\n",
       "       'c240Dscr', 'c240bDscr', 'createdOn', 'modifiedOn', 'startStop'],\n",
       "      dtype='object')"
      ]
     },
     "execution_count": 11,
     "metadata": {},
     "output_type": "execute_result"
    }
   ],
   "source": [
    "fueleco.select_dtypes(object).columns"
   ]
  },
  {
   "cell_type": "code",
   "execution_count": 12,
   "metadata": {},
   "outputs": [
    {
     "data": {
      "text/plain": [
       "Front-Wheel Drive             14797\n",
       "Rear-Wheel Drive              14428\n",
       "4-Wheel or All-Wheel Drive     6645\n",
       "All-Wheel Drive                3812\n",
       "4-Wheel Drive                  1802\n",
       "2-Wheel Drive                   507\n",
       "Part-time 4-Wheel Drive         319\n",
       "Name: drive, dtype: int64"
      ]
     },
     "execution_count": 12,
     "metadata": {},
     "output_type": "execute_result"
    }
   ],
   "source": [
    "fueleco.drive.value_counts()"
   ]
  },
  {
   "cell_type": "code",
   "execution_count": 13,
   "metadata": {},
   "outputs": [
    {
     "data": {
      "text/plain": [
       "<AxesSubplot:>"
      ]
     },
     "execution_count": 13,
     "metadata": {},
     "output_type": "execute_result"
    },
    {
     "data": {
      "image/png": "[encoded data removed]",
      "text/plain": [
       "<Figure size 432x288 with 1 Axes>"
      ]
     },
     "metadata": {
      "needs_background": "light"
     },
     "output_type": "display_data"
    }
   ],
   "source": [
    "fueleco.drive.value_counts().plot(kind='bar')"
   ]
  },
  {
   "cell_type": "code",
   "execution_count": 14,
   "metadata": {},
   "outputs": [
    {
     "data": {
      "text/plain": [
       "<BarContainer object of 7 artists>"
      ]
     },
     "execution_count": 14,
     "metadata": {},
     "output_type": "execute_result"
    },
    {
     "data": {
      "image/png": "[encoded data removed]",
      "text/plain": [
       "<Figure size 720x576 with 1 Axes>"
      ]
     },
     "metadata": {
      "needs_background": "light"
     },
     "output_type": "display_data"
    }
   ],
   "source": [
    "#matplotlib\n",
    "import matplotlib.pyplot as plt\n",
    "fig, ax = plt.subplots(figsize=(10, 8))\n",
    "plt.bar(fueleco.drive.value_counts().index, fueleco.drive.value_counts())"
   ]
  },
  {
   "cell_type": "code",
   "execution_count": 15,
   "metadata": {},
   "outputs": [
    {
     "name": "stderr",
     "output_type": "stream",
     "text": [
      "C:\\Users\\dajin\\Anaconda3\\lib\\site-packages\\seaborn\\_decorators.py:36: FutureWarning: Pass the following variables as keyword args: x, y. From version 0.12, the only valid positional argument will be `data`, and passing other arguments without an explicit keyword will result in an error or misinterpretation.\n",
      "  warnings.warn(\n"
     ]
    },
    {
     "data": {
      "text/plain": [
       "<AxesSubplot:ylabel='drive'>"
      ]
     },
     "execution_count": 15,
     "metadata": {},
     "output_type": "execute_result"
    },
    {
     "data": {
      "image/png": "[encoded data removed]",
      "text/plain": [
       "<Figure size 432x288 with 1 Axes>"
      ]
     },
     "metadata": {
      "needs_background": "light"
     },
     "output_type": "display_data"
    }
   ],
   "source": [
    "#seaborn\n",
    "import seaborn as sns\n",
    "sns.barplot(fueleco.drive.value_counts().index, fueleco.drive.value_counts())"
   ]
  },
  {
   "cell_type": "code",
   "execution_count": 16,
   "metadata": {},
   "outputs": [],
   "source": [
    "top_n = fueleco.make.value_counts().index[:6]"
   ]
  },
  {
   "cell_type": "code",
   "execution_count": 18,
   "metadata": {},
   "outputs": [
    {
     "data": {
      "text/plain": [
       "Other        26236\n",
       "Chevrolet     4175\n",
       "Ford          3508\n",
       "Dodge         2632\n",
       "GMC           2608\n",
       "Toyota        2189\n",
       "BMW           2148\n",
       "Name: make, dtype: int64"
      ]
     },
     "execution_count": 18,
     "metadata": {},
     "output_type": "execute_result"
    }
   ],
   "source": [
    "fueleco.make.where(fueleco.make.isin(top_n), 'Other').value_counts()"
   ]
  },
  {
   "cell_type": "code",
   "execution_count": 19,
   "metadata": {},
   "outputs": [
    {
     "data": {
      "text/plain": [
       "Other        26236\n",
       "Chevrolet     4175\n",
       "Ford          3508\n",
       "Dodge         2632\n",
       "GMC           2608\n",
       "Toyota        2189\n",
       "BMW           2148\n",
       "Name: make, dtype: int64"
      ]
     },
     "execution_count": 19,
     "metadata": {},
     "output_type": "execute_result"
    }
   ],
   "source": [
    "(\n",
    " fueleco.assign(make=fueleco.make.where(fueleco.make.isin(top_n), 'Other'))\n",
    " .make.value_counts()\n",
    ")"
   ]
  },
  {
   "cell_type": "code",
   "execution_count": 20,
   "metadata": {},
   "outputs": [
    {
     "data": {
      "text/plain": [
       "<AxesSubplot:>"
      ]
     },
     "execution_count": 20,
     "metadata": {},
     "output_type": "execute_result"
    },
    {
     "data": {
      "image/png": "[encoded data removed]",
      "text/plain": [
       "<Figure size 720x576 with 1 Axes>"
      ]
     },
     "metadata": {
      "needs_background": "light"
     },
     "output_type": "display_data"
    }
   ],
   "source": [
    "import matplotlib.pyplot as plt # 이 부분은 관용적으로 이렇게 씁니다.\n",
    "fig, ax = plt.subplots(figsize=(10, 8))\n",
    "top_n = fueleco.make.value_counts().index[:6]\n",
    "(\n",
    " fueleco.assign(\n",
    " make=fueleco.make.where(\n",
    " fueleco.make.isin(top_n), 'Other'))\n",
    " .make.value_counts()[1:]\n",
    " .plot.bar(ax=ax)\n",
    ")"
   ]
  },
  {
   "cell_type": "code",
   "execution_count": 21,
   "metadata": {},
   "outputs": [
    {
     "data": {
      "text/plain": [
       "<AxesSubplot:xlabel='count', ylabel='make'>"
      ]
     },
     "execution_count": 21,
     "metadata": {},
     "output_type": "execute_result"
    },
    {
     "data": {
      "image/png": "[encoded data removed]",
      "text/plain": [
       "<Figure size 720x576 with 1 Axes>"
      ]
     },
     "metadata": {
      "needs_background": "light"
     },
     "output_type": "display_data"
    }
   ],
   "source": [
    "import seaborn as sns # 이 부분은 관용적으로 이렇게 씁니다.\n",
    "fig, ax = plt.subplots(figsize=(10, 8))\n",
    "top_n = fueleco.make.value_counts().index[:6]\n",
    "sns.countplot(y='make',\n",
    " data=(fueleco.assign(\n",
    " make=fueleco.make.where(fueleco.make.isin(top_n), 'Other'))\n",
    " )\n",
    " )"
   ]
  },
  {
   "cell_type": "code",
   "execution_count": 22,
   "metadata": {},
   "outputs": [
    {
     "data": {
      "text/plain": [
       "Front-Wheel Drive             14797\n",
       "Rear-Wheel Drive              14428\n",
       "4-Wheel or All-Wheel Drive     6645\n",
       "All-Wheel Drive                3812\n",
       "4-Wheel Drive                  1802\n",
       "NaN                            1186\n",
       "2-Wheel Drive                   507\n",
       "Part-time 4-Wheel Drive         319\n",
       "Name: drive, dtype: int64"
      ]
     },
     "execution_count": 22,
     "metadata": {},
     "output_type": "execute_result"
    }
   ],
   "source": [
    "#value_counts 에서 dropna=False 를 주면, na값을 다른 값의 수와 비교하기 쉽습니다.\n",
    "fueleco.drive.value_counts(dropna=False)"
   ]
  },
  {
   "cell_type": "code",
   "execution_count": 23,
   "metadata": {},
   "outputs": [
    {
     "data": {
      "text/plain": [
       "/    323\n",
       "-     71\n",
       "dtype: int64"
      ]
     },
     "execution_count": 23,
     "metadata": {},
     "output_type": "execute_result"
    }
   ],
   "source": [
    "# 위를 보니 230/350 같은 요상한 것이 있군요. NA 값도 많습니다.\n",
    "# 값 안에 숫자가 아닌 것을 찾기 위해서, 정규표현식을 써봅시다.\n",
    "(\n",
    " # ^ 는 not 의 의미입니다. 그러니까 숫자와 . 을 뺀 문자가 들어가있으면 보여줘! 란 거죠.\n",
    " fueleco.rangeA.str.extract(r'([^0-9.])')\n",
    " .dropna() # na 값 버리기\n",
    "# .apply(lambda row: ''.join(row), axis=1) \n",
    " .value_counts()\n",
    ")\n"
   ]
  },
  {
   "cell_type": "code",
   "execution_count": 24,
   "metadata": {},
   "outputs": [
    {
     "data": {
      "text/plain": [
       "{float, str}"
      ]
     },
     "execution_count": 24,
     "metadata": {},
     "output_type": "execute_result"
    }
   ],
   "source": [
    "# type 을 apply 해서 각 값마다 data type 확인하기 -> set 으로 묶어 중복되지 않게 보기\n",
    "set(fueleco.rangeA.apply(type))"
   ]
  },
  {
   "cell_type": "code",
   "execution_count": 25,
   "metadata": {},
   "outputs": [
    {
     "data": {
      "text/plain": [
       "0        <class 'float'>\n",
       "1        <class 'float'>\n",
       "2        <class 'float'>\n",
       "3        <class 'float'>\n",
       "4        <class 'float'>\n",
       "              ...       \n",
       "43491    <class 'float'>\n",
       "43492    <class 'float'>\n",
       "43493    <class 'float'>\n",
       "43494    <class 'float'>\n",
       "43495    <class 'float'>\n",
       "Name: rangeA, Length: 43496, dtype: object"
      ]
     },
     "execution_count": 25,
     "metadata": {},
     "output_type": "execute_result"
    }
   ],
   "source": [
    "fueleco.rangeA.apply(type)"
   ]
  },
  {
   "cell_type": "code",
   "execution_count": 26,
   "metadata": {},
   "outputs": [
    {
     "data": {
      "text/plain": [
       "0        0.0\n",
       "1        0.0\n",
       "2        0.0\n",
       "3        0.0\n",
       "4        0.0\n",
       "        ... \n",
       "43491    0.0\n",
       "43492    0.0\n",
       "43493    0.0\n",
       "43494    0.0\n",
       "43495    0.0\n",
       "Length: 43496, dtype: float64"
      ]
     },
     "execution_count": 26,
     "metadata": {},
     "output_type": "execute_result"
    }
   ],
   "source": [
    "# fueleconomy.gov 에 따르면 , rangeA 값은 두 번째 연료 형식의 연비 범위를 나타낸다고 합니다.\n",
    "# 전기나 가스 같은 것이죠.\n",
    "# 그러니까 10 - 15 이면 10~15 의 연비 범위를 갖는다는 말이겠네요.\n",
    "# 이를 처리해가 위해서 평균을 구해봅시다.\n",
    "# -를 /로 변환한 다음, /로 데이터를 나누고, 평균값을 구해봐요.\n",
    "(\n",
    " fueleco.rangeA.fillna('0')\n",
    " .str.replace('-', '/')\n",
    " .str.split('/', expand=True)\n",
    " .astype(float)\n",
    " .mean(axis=1)\n",
    ")"
   ]
  },
  {
   "cell_type": "code",
   "execution_count": 27,
   "metadata": {},
   "outputs": [
    {
     "data": {
      "text/plain": [
       "(-0.45, 44.95]     41967\n",
       "(269.7, 314.65]      600\n",
       "(314.65, 359.6]      379\n",
       "(359.6, 404.55]      216\n",
       "(224.75, 269.7]      187\n",
       "(404.55, 449.5]       92\n",
       "(89.9, 134.85]        21\n",
       "(44.95, 89.9]         20\n",
       "(179.8, 224.75]        9\n",
       "(134.85, 179.8]        5\n",
       "dtype: int64"
      ]
     },
     "execution_count": 27,
     "metadata": {},
     "output_type": "execute_result"
    }
   ],
   "source": [
    "\n",
    "(\n",
    " fueleco.rangeA.fillna('0')\n",
    " .str.replace('-', '/')\n",
    " .str.split('/', expand=True)\n",
    " .astype(float)\n",
    " .mean(axis=1)\n",
    " .pipe(lambda ser_: pd.cut(ser_, 10))\n",
    " .value_counts()\n",
    ")\n"
   ]
  },
  {
   "cell_type": "code",
   "execution_count": 28,
   "metadata": {},
   "outputs": [
    {
     "data": {
      "text/plain": [
       "<AxesSubplot:>"
      ]
     },
     "execution_count": 28,
     "metadata": {},
     "output_type": "execute_result"
    },
    {
     "data": {
      "image/png": "[encoded data removed]",
      "text/plain": [
       "<Figure size 432x288 with 1 Axes>"
      ]
     },
     "metadata": {
      "needs_background": "light"
     },
     "output_type": "display_data"
    }
   ],
   "source": [
    "(\n",
    " fueleco.city08.pipe(\n",
    " lambda ser: pd.qcut(ser, q=10)\n",
    " ).value_counts().sort_index().plot.bar()\n",
    ")"
   ]
  },
  {
   "cell_type": "code",
   "execution_count": 29,
   "metadata": {},
   "outputs": [
    {
     "data": {
      "text/plain": [
       "<AxesSubplot:>"
      ]
     },
     "execution_count": 29,
     "metadata": {},
     "output_type": "execute_result"
    },
    {
     "data": {
      "image/png": "[encoded data removed]",
      "text/plain": [
       "<Figure size 720x576 with 1 Axes>"
      ]
     },
     "metadata": {
      "needs_background": "light"
     },
     "output_type": "display_data"
    }
   ],
   "source": [
    "import matplotlib.pyplot as plt\n",
    "fig, ax = plt.subplots(figsize=(10, 8))\n",
    "fueleco.city08.hist(ax=ax)\n",
    "#plt.hist()"
   ]
  },
  {
   "cell_type": "code",
   "execution_count": 30,
   "metadata": {},
   "outputs": [
    {
     "data": {
      "text/plain": [
       "<AxesSubplot:>"
      ]
     },
     "execution_count": 30,
     "metadata": {},
     "output_type": "execute_result"
    },
    {
     "data": {
      "image/png": "[encoded data removed]",
      "text/plain": [
       "<Figure size 720x576 with 1 Axes>"
      ]
     },
     "metadata": {
      "needs_background": "light"
     },
     "output_type": "display_data"
    }
   ],
   "source": [
    "# 0~20 사이가 너무 두꺼워서 세부적 모양을 보기 어렵습니다.\n",
    "# 이럴 땐, bin의 개수를 늘리면 도움이 됩니다.\n",
    "fig, ax = plt.subplots(figsize=(10, 8))\n",
    "fueleco.city08.hist(ax=ax, bins=100)"
   ]
  },
  {
   "cell_type": "code",
   "execution_count": 31,
   "metadata": {},
   "outputs": [
    {
     "data": {
      "text/plain": [
       "<AxesSubplot:xlabel='city08', ylabel='Count'>"
      ]
     },
     "execution_count": 31,
     "metadata": {},
     "output_type": "execute_result"
    },
    {
     "data": {
      "image/png": "[encoded data removed]",
      "text/plain": [
       "<Figure size 720x576 with 1 Axes>"
      ]
     },
     "metadata": {
      "needs_background": "light"
     },
     "output_type": "display_data"
    }
   ],
   "source": [
    "fig, ax = plt.subplots(figsize=(10, 8))\n",
    "#sns.distplot(fueleco.city08, ax=ax)\n",
    "sns.histplot(fueleco.city08, ax=ax, binwidth=2)"
   ]
  },
  {
   "cell_type": "code",
   "execution_count": 32,
   "metadata": {},
   "outputs": [
    {
     "data": {
      "text/plain": [
       "<AxesSubplot:xlabel='city08'>"
      ]
     },
     "execution_count": 32,
     "metadata": {},
     "output_type": "execute_result"
    },
    {
     "data": {
      "image/png": "[encoded data removed]",
      "text/plain": [
       "<Figure size 720x576 with 3 Axes>"
      ]
     },
     "metadata": {
      "needs_background": "light"
     },
     "output_type": "display_data"
    }
   ],
   "source": [
    "# 더 다양한 그림을 그려봅시다.\n",
    "fig, axs = plt.subplots(nrows=3, figsize=(10, 8))\n",
    "sns.boxplot(x=fueleco.city08, ax=axs[0])\n",
    "sns.violinplot(x=fueleco.city08, ax=axs[1])\n",
    "sns.boxenplot(x=fueleco.city08, ax=axs[2])"
   ]
  },
  {
   "cell_type": "code",
   "execution_count": 33,
   "metadata": {},
   "outputs": [
    {
     "data": {
      "text/plain": [
       "KstestResult(statistic=0.9999999990134123, pvalue=0.0)"
      ]
     },
     "execution_count": 33,
     "metadata": {},
     "output_type": "execute_result"
    }
   ],
   "source": [
    "# 데이터의 정규성을 검정하려면 SciPy의 kstest 를 사용합니다.\n",
    "# SciPy는 과학/수학 관련된 파이썬 모듈입니다.\n",
    "# kstest 에서 p-value 가 0.05 이하라면, 데이터는 정규분포가 아닙니다.\n",
    "from scipy import stats\n",
    "stats.kstest(fueleco.city08, cdf='norm')"
   ]
  },
  {
   "cell_type": "code",
   "execution_count": 34,
   "metadata": {},
   "outputs": [
    {
     "data": {
      "text/plain": [
       "((array([-4.1596647 , -3.95242622, -3.8393835 , ...,  3.8393835 ,\n",
       "          3.95242622,  4.1596647 ]),\n",
       "  array([  6,   6,   6, ..., 150, 150, 150], dtype=int64)),\n",
       " (6.249552927743259, 18.666773956225857, 0.7104765495412353))"
      ]
     },
     "execution_count": 34,
     "metadata": {},
     "output_type": "execute_result"
    },
    {
     "data": {
      "image/png": "[encoded data removed]",
      "text/plain": [
       "<Figure size 720x576 with 1 Axes>"
      ]
     },
     "metadata": {
      "needs_background": "light"
     },
     "output_type": "display_data"
    }
   ],
   "source": [
    "fig, ax = plt.subplots(figsize=(10, 8))\n",
    "stats.probplot(fueleco.city08, plot=ax)"
   ]
  },
  {
   "cell_type": "code",
   "execution_count": 35,
   "metadata": {},
   "outputs": [],
   "source": [
    "mask = fueleco.make.isin(['Ford', 'Honda', 'Tesla', 'BMW']) "
   ]
  },
  {
   "cell_type": "code",
   "execution_count": 36,
   "metadata": {},
   "outputs": [
    {
     "data": {
      "text/plain": [
       "<seaborn.axisgrid.FacetGrid at 0x1936e4c5a00>"
      ]
     },
     "execution_count": 36,
     "metadata": {},
     "output_type": "execute_result"
    },
    {
     "data": {
      "image/png": "[encoded data removed]",
      "text/plain": [
       "<Figure size 360x360 with 1 Axes>"
      ]
     },
     "metadata": {
      "needs_background": "light"
     },
     "output_type": "display_data"
    }
   ],
   "source": [
    "#위 결과를 시각화해봅니다.\n",
    "sns.catplot(x='make', y='city08', data=fueleco[mask], kind='box')"
   ]
  },
  {
   "cell_type": "code",
   "execution_count": 37,
   "metadata": {},
   "outputs": [
    {
     "name": "stderr",
     "output_type": "stream",
     "text": [
      "C:\\Users\\dajin\\Anaconda3\\lib\\site-packages\\seaborn\\categorical.py:1296: UserWarning: 60.4% of the points cannot be placed; you may want to decrease the size of the markers or use stripplot.\n",
      "  warnings.warn(msg, UserWarning)\n",
      "C:\\Users\\dajin\\Anaconda3\\lib\\site-packages\\seaborn\\categorical.py:1296: UserWarning: 67.8% of the points cannot be placed; you may want to decrease the size of the markers or use stripplot.\n",
      "  warnings.warn(msg, UserWarning)\n",
      "C:\\Users\\dajin\\Anaconda3\\lib\\site-packages\\seaborn\\categorical.py:1296: UserWarning: 12.6% of the points cannot be placed; you may want to decrease the size of the markers or use stripplot.\n",
      "  warnings.warn(msg, UserWarning)\n"
     ]
    },
    {
     "data": {
      "text/plain": [
       "<AxesSubplot:xlabel='make', ylabel='city08'>"
      ]
     },
     "execution_count": 37,
     "metadata": {},
     "output_type": "execute_result"
    },
    {
     "data": {
      "image/png": "[encoded data removed]",
      "text/plain": [
       "<Figure size 360x360 with 1 Axes>"
      ]
     },
     "metadata": {
      "needs_background": "light"
     },
     "output_type": "display_data"
    }
   ],
   "source": [
    "g = sns.catplot(x='make', y='city08', data=fueleco[mask], kind='box')\n",
    "sns.swarmplot(x='make', y='city08', data=fueleco[mask], color='k', size=1, ax=g.ax)"
   ]
  },
  {
   "cell_type": "code",
   "execution_count": null,
   "metadata": {},
   "outputs": [],
   "source": [
    "sns.catplot(\n",
    " x='make',\n",
    " y='city08',\n",
    " data=fueleco[mask],\n",
    " kind='box',\n",
    " col='year',\n",
    " col_order=[2012, 2014, 2016, 2018], # 연도의 등장 순서 결정\n",
    " col_wrap=2 #몇 줄로 만들 것인지 결정\n",
    ")"
   ]
  },
  {
   "cell_type": "code",
   "execution_count": null,
   "metadata": {},
   "outputs": [],
   "source": [
    "# 하나의 그래프에 색을 추가해서 그리는 법도 있습ㄴ다.\n",
    "# 이 땐, hue 를 사용합니다.\n",
    "sns.catplot(\n",
    " x='make',\n",
    " y='city08',\n",
    " data=fueleco[mask],\n",
    " kind='box',\n",
    " hue='year', # 이 부분!\n",
    " hue_order=[2012, 2014, 2016, 2018],\n",
    "# height=10, aspect=1 #크기조절하는 부분\n",
    ")"
   ]
  },
  {
   "cell_type": "code",
   "execution_count": null,
   "metadata": {},
   "outputs": [],
   "source": [
    "# 여러 변수의 corr를 한 번에 그리기 위한 작업\n",
    "fig, ax = plt.subplots(figsize=(8, 8))\n",
    "corr = fueleco[['city08', 'highway08', 'cylinders']].corr()\n",
    "mask = np.zeros_like(corr, dtype=np.bool)\n",
    "mask[np.triu_indices_from(mask)] = True\n",
    "sns.heatmap(\n",
    " corr,\n",
    " mask=mask,\n",
    " fmt='.2f',\n",
    " annot=True,\n",
    " ax=ax,\n",
    " cmap='RdBu',\n",
    " vmin=-1,\n",
    " vmax=1,\n",
    " square=True\n",
    ")\n"
   ]
  },
  {
   "cell_type": "code",
   "execution_count": null,
   "metadata": {},
   "outputs": [],
   "source": [
    "# 산포도를 그려봅시다.\n",
    "fig, ax = plt.subplots(figsize=(8, 8))\n",
    "fueleco.plot.scatter(\n",
    " x='city08',\n",
    " y='highway08',\n",
    "    alpha=.1,\n",
    " ax=ax\n",
    ")\n"
   ]
  },
  {
   "cell_type": "code",
   "execution_count": null,
   "metadata": {},
   "outputs": [],
   "source": [
    "fig, ax = plt.subplots(figsize=(8, 8))\n",
    "fueleco.plot.scatter(\n",
    " x='city08',\n",
    " y='cylinders',\n",
    " alpha=.1,\n",
    " ax=ax\n",
    ")"
   ]
  },
  {
   "cell_type": "code",
   "execution_count": null,
   "metadata": {},
   "outputs": [],
   "source": [
    "fueleco.cylinders.isna().sum()\n",
    "fig, ax = plt.subplots(figsize=(8, 8))\n",
    "(\n",
    " fueleco.assign(\n",
    " cylinders=fueleco.cylinders.fillna(0))\n",
    " .plot.scatter(\n",
    " x='city08', y='cylinders', alpha=.1, ax=ax\n",
    " )\n",
    ")"
   ]
  },
  {
   "cell_type": "code",
   "execution_count": null,
   "metadata": {},
   "outputs": [],
   "source": [
    "# 상관관계에 회귀선을 추가하고자 sns 사용\n",
    "res = sns.lmplot(\n",
    " x='city08', y='highway08', data=fueleco\n",
    ")"
   ]
  },
  {
   "cell_type": "code",
   "execution_count": null,
   "metadata": {},
   "outputs": [],
   "source": [
    "# 여기서도 색을 추가해서 더 다양한 정보를 넣어봅시다.\n",
    "sns.relplot(\n",
    " x='city08',\n",
    " y='highway08',\n",
    " data=fueleco.assign(\n",
    " cylinders=fueleco.cylinders.fillna(0)\n",
    " ),\n",
    " hue='year', # 색상을 year 에 대해서 바꾸겠다\n",
    " size='barrels08', # 점의 사이즈를 barrels08 에 대해 바꾸겠다\n",
    " alpha=.5, #투명도\n",
    " height=8 #크기\n",
    " \n",
    ")"
   ]
  },
  {
   "cell_type": "code",
   "execution_count": null,
   "metadata": {},
   "outputs": [],
   "source": [
    "#아래 함수는 VClass 를\n",
    "def generalize(ser, match_name, default):\n",
    " seen = None # other 를 만들기 위한 변수\n",
    " for match, name in match_name: #match : 찾을 키워드, name: 바꿀 키워드\n",
    " mask = ser.str.contains(match) # match 를 가지고 있으면 True, 아니면 False\n",
    " \n",
    " if seen is None:\n",
    " seen = mask\n",
    " else:\n",
    " seen |= mask\n",
    " ser = ser.where(~mask, name) # ~mask, match가 없는 애들은 그냥 두고, 있으면 name으\n",
    " ser = ser.where(seen, default) # seen 이 False 이면 default('other')로 만들기\n",
    " return ser\n",
    "makes = ['Ford', 'Tesla', 'BMW', 'Toyota']\n",
    "data = fueleco[fueleco.make.isin(makes)].assign(\n",
    " SClass=lambda df_: generalize(df_.VClass,\n",
    " [('Seaters', 'Car'),\n",
    " ('Car', 'Car'),\n",
    " ('Utility', 'SUV'),\n",
    " ('Truck', 'Truck'),\n",
    " ('Van', 'Van'),\n",
    " ('van', 'Van'),\n",
    " ('Wagon', 'Wagon'),\n",
    " ],\n",
    "'other') \n",
    ")"
   ]
  },
  {
   "cell_type": "code",
   "execution_count": null,
   "metadata": {},
   "outputs": [],
   "source": [
    "pd.crosstab(data.make, data.SClass)"
   ]
  },
  {
   "cell_type": "code",
   "execution_count": null,
   "metadata": {},
   "outputs": [],
   "source": [
    "# crosstab 을 시각화합니다.\n",
    "fig, ax = plt.subplots(figsize=(10, 8))\n",
    "(\n",
    " data.pipe(lambda df_: pd.crosstab(df_.make, df_.SClass))\n",
    " .plot.bar(ax=ax)\n",
    ")"
   ]
  },
  {
   "cell_type": "code",
   "execution_count": null,
   "metadata": {},
   "outputs": [],
   "source": [
    "# seaborn 을 이용하면 조금 더 깔끔해집니다.\n",
    "sns.catplot(\n",
    " kind='count', x='make', hue='SClass', data=data\n",
    ")"
   ]
  },
  {
   "cell_type": "code",
   "execution_count": null,
   "metadata": {},
   "outputs": [],
   "source": [
    "# 상대적 비율 비교를 위해 크기를 고정시킨 stacked bar graph 도 있습니다.\n",
    "fig, ax = plt.subplots(figsize=(10, 8))\n",
    "(\n",
    " data.pipe(\n",
    " lambda df_: pd.crosstab(df_.make, df_.SClass)\n",
    " )\n",
    " .pipe(lambda df_: df_.div(df_.sum(axis=1), axis=0))\n",
    " .plot.bar(stacked=True, ax=ax)\n",
    ")"
   ]
  },
  {
   "cell_type": "code",
   "execution_count": null,
   "metadata": {},
   "outputs": [],
   "source": [
    "# 이런 것도 가능해요.\n",
    "fig, ax = plt.subplots(figsize=(10, 8))\n",
    "sns.countplot(\n",
    " x='make',\n",
    " hue='SClass',\n",
    " data=data,\n",
    " dodge=False\n",
    ")"
   ]
  },
  {
   "cell_type": "code",
   "execution_count": null,
   "metadata": {},
   "outputs": [],
   "source": [
    "\n",
    "#import pandas_profiling as pp\n",
    "#report = pp.ProfileReport(fueleco)\n",
    "#report.to_file('test.html')"
   ]
  }
 ],
 "metadata": {
  "kernelspec": {
   "display_name": "Python 3",
   "language": "python",
   "name": "python3"
  },
  "language_info": {
   "codemirror_mode": {
    "name": "ipython",
    "version": 3
   },
   "file_extension": ".py",
   "mimetype": "text/x-python",
   "name": "python",
   "nbconvert_exporter": "python",
   "pygments_lexer": "ipython3",
   "version": "3.8.5"
  }
 },
 "nbformat": 4,
 "nbformat_minor": 4
}
